{
 "cells": [
  {
   "cell_type": "code",
   "execution_count": 1,
   "metadata": {
    "colab": {
     "base_uri": "https://localhost:8080/",
     "height": 110,
     "resources": {
      "http://localhost:8080/nbextensions/google.colab/files.js": {
       "data": "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",
       "headers": [
        [
         "content-type",
         "application/javascript"
        ]
       ],
       "ok": true,
       "status": 200,
       "status_text": ""
      }
     }
    },
    "colab_type": "code",
    "executionInfo": {
     "elapsed": 50350,
     "status": "ok",
     "timestamp": 1597658694762,
     "user": {
      "displayName": "Alex Rymar",
      "photoUrl": "",
      "userId": "07124085059178606737"
     },
     "user_tz": -180
    },
    "id": "9447JTKzM1rR",
    "outputId": "2f0e44c2-08c4-4643-d215-43f086809f84"
   },
   "outputs": [],
   "source": [
    "#from google.colab import files\n",
    "#files.upload()"
   ]
  },
  {
   "cell_type": "code",
   "execution_count": 2,
   "metadata": {
    "colab": {},
    "colab_type": "code",
    "executionInfo": {
     "elapsed": 50333,
     "status": "ok",
     "timestamp": 1597658694766,
     "user": {
      "displayName": "Alex Rymar",
      "photoUrl": "",
      "userId": "07124085059178606737"
     },
     "user_tz": -180
    },
    "id": "zUG8oKIOM7EJ"
   },
   "outputs": [],
   "source": [
    "#try : \n",
    "#  %tensorflow_version 2.x\n",
    "#except Exception :\n",
    "#  pass"
   ]
  },
  {
   "cell_type": "code",
   "execution_count": 3,
   "metadata": {
    "colab": {
     "base_uri": "https://localhost:8080/",
     "height": 70
    },
    "colab_type": "code",
    "executionInfo": {
     "elapsed": 50258,
     "status": "ok",
     "timestamp": 1597658694769,
     "user": {
      "displayName": "Alex Rymar",
      "photoUrl": "",
      "userId": "07124085059178606737"
     },
     "user_tz": -180
    },
    "id": "HFIIyCGPMyDH",
    "outputId": "511bf758-0307-4502-ca4f-6b5c16551e8f"
   },
   "outputs": [],
   "source": [
    "import pandas as pd \n",
    "import seaborn as sns\n",
    "import matplotlib.pyplot as plt\n",
    "import numpy as np\n",
    "from scipy.stats import t   \n",
    "%matplotlib inline "
   ]
  },
  {
   "cell_type": "markdown",
   "metadata": {},
   "source": [
    "## Let's take a quick look on the data"
   ]
  },
  {
   "cell_type": "code",
   "execution_count": 4,
   "metadata": {
    "colab": {
     "base_uri": "https://localhost:8080/",
     "height": 215
    },
    "colab_type": "code",
    "executionInfo": {
     "elapsed": 50238,
     "status": "ok",
     "timestamp": 1597658694772,
     "user": {
      "displayName": "Alex Rymar",
      "photoUrl": "",
      "userId": "07124085059178606737"
     },
     "user_tz": -180
    },
    "id": "3k_Yim4XMyDN",
    "outputId": "535b19e1-bac6-4f8c-b063-89ac02058613"
   },
   "outputs": [
    {
     "data": {
      "text/html": [
       "<div>\n",
       "<style scoped>\n",
       "    .dataframe tbody tr th:only-of-type {\n",
       "        vertical-align: middle;\n",
       "    }\n",
       "\n",
       "    .dataframe tbody tr th {\n",
       "        vertical-align: top;\n",
       "    }\n",
       "\n",
       "    .dataframe thead th {\n",
       "        text-align: right;\n",
       "    }\n",
       "</style>\n",
       "<table border=\"1\" class=\"dataframe\">\n",
       "  <thead>\n",
       "    <tr style=\"text-align: right;\">\n",
       "      <th></th>\n",
       "      <th>gameId</th>\n",
       "      <th>blueWins</th>\n",
       "      <th>blueWardsPlaced</th>\n",
       "      <th>blueWardsDestroyed</th>\n",
       "      <th>blueFirstBlood</th>\n",
       "      <th>blueKills</th>\n",
       "      <th>blueDeaths</th>\n",
       "      <th>blueAssists</th>\n",
       "      <th>blueEliteMonsters</th>\n",
       "      <th>blueDragons</th>\n",
       "      <th>...</th>\n",
       "      <th>redTowersDestroyed</th>\n",
       "      <th>redTotalGold</th>\n",
       "      <th>redAvgLevel</th>\n",
       "      <th>redTotalExperience</th>\n",
       "      <th>redTotalMinionsKilled</th>\n",
       "      <th>redTotalJungleMinionsKilled</th>\n",
       "      <th>redGoldDiff</th>\n",
       "      <th>redExperienceDiff</th>\n",
       "      <th>redCSPerMin</th>\n",
       "      <th>redGoldPerMin</th>\n",
       "    </tr>\n",
       "  </thead>\n",
       "  <tbody>\n",
       "    <tr>\n",
       "      <th>0</th>\n",
       "      <td>4519157822</td>\n",
       "      <td>0</td>\n",
       "      <td>28</td>\n",
       "      <td>2</td>\n",
       "      <td>1</td>\n",
       "      <td>9</td>\n",
       "      <td>6</td>\n",
       "      <td>11</td>\n",
       "      <td>0</td>\n",
       "      <td>0</td>\n",
       "      <td>...</td>\n",
       "      <td>0</td>\n",
       "      <td>16567</td>\n",
       "      <td>6.8</td>\n",
       "      <td>17047</td>\n",
       "      <td>197</td>\n",
       "      <td>55</td>\n",
       "      <td>-643</td>\n",
       "      <td>8</td>\n",
       "      <td>19.7</td>\n",
       "      <td>1656.7</td>\n",
       "    </tr>\n",
       "    <tr>\n",
       "      <th>1</th>\n",
       "      <td>4523371949</td>\n",
       "      <td>0</td>\n",
       "      <td>12</td>\n",
       "      <td>1</td>\n",
       "      <td>0</td>\n",
       "      <td>5</td>\n",
       "      <td>5</td>\n",
       "      <td>5</td>\n",
       "      <td>0</td>\n",
       "      <td>0</td>\n",
       "      <td>...</td>\n",
       "      <td>1</td>\n",
       "      <td>17620</td>\n",
       "      <td>6.8</td>\n",
       "      <td>17438</td>\n",
       "      <td>240</td>\n",
       "      <td>52</td>\n",
       "      <td>2908</td>\n",
       "      <td>1173</td>\n",
       "      <td>24.0</td>\n",
       "      <td>1762.0</td>\n",
       "    </tr>\n",
       "    <tr>\n",
       "      <th>2</th>\n",
       "      <td>4521474530</td>\n",
       "      <td>0</td>\n",
       "      <td>15</td>\n",
       "      <td>0</td>\n",
       "      <td>0</td>\n",
       "      <td>7</td>\n",
       "      <td>11</td>\n",
       "      <td>4</td>\n",
       "      <td>1</td>\n",
       "      <td>1</td>\n",
       "      <td>...</td>\n",
       "      <td>0</td>\n",
       "      <td>17285</td>\n",
       "      <td>6.8</td>\n",
       "      <td>17254</td>\n",
       "      <td>203</td>\n",
       "      <td>28</td>\n",
       "      <td>1172</td>\n",
       "      <td>1033</td>\n",
       "      <td>20.3</td>\n",
       "      <td>1728.5</td>\n",
       "    </tr>\n",
       "    <tr>\n",
       "      <th>3</th>\n",
       "      <td>4524384067</td>\n",
       "      <td>0</td>\n",
       "      <td>43</td>\n",
       "      <td>1</td>\n",
       "      <td>0</td>\n",
       "      <td>4</td>\n",
       "      <td>5</td>\n",
       "      <td>5</td>\n",
       "      <td>1</td>\n",
       "      <td>0</td>\n",
       "      <td>...</td>\n",
       "      <td>0</td>\n",
       "      <td>16478</td>\n",
       "      <td>7.0</td>\n",
       "      <td>17961</td>\n",
       "      <td>235</td>\n",
       "      <td>47</td>\n",
       "      <td>1321</td>\n",
       "      <td>7</td>\n",
       "      <td>23.5</td>\n",
       "      <td>1647.8</td>\n",
       "    </tr>\n",
       "    <tr>\n",
       "      <th>4</th>\n",
       "      <td>4436033771</td>\n",
       "      <td>0</td>\n",
       "      <td>75</td>\n",
       "      <td>4</td>\n",
       "      <td>0</td>\n",
       "      <td>6</td>\n",
       "      <td>6</td>\n",
       "      <td>6</td>\n",
       "      <td>0</td>\n",
       "      <td>0</td>\n",
       "      <td>...</td>\n",
       "      <td>0</td>\n",
       "      <td>17404</td>\n",
       "      <td>7.0</td>\n",
       "      <td>18313</td>\n",
       "      <td>225</td>\n",
       "      <td>67</td>\n",
       "      <td>1004</td>\n",
       "      <td>-230</td>\n",
       "      <td>22.5</td>\n",
       "      <td>1740.4</td>\n",
       "    </tr>\n",
       "  </tbody>\n",
       "</table>\n",
       "<p>5 rows × 40 columns</p>\n",
       "</div>"
      ],
      "text/plain": [
       "       gameId  blueWins  blueWardsPlaced  blueWardsDestroyed  blueFirstBlood  \\\n",
       "0  4519157822         0               28                   2               1   \n",
       "1  4523371949         0               12                   1               0   \n",
       "2  4521474530         0               15                   0               0   \n",
       "3  4524384067         0               43                   1               0   \n",
       "4  4436033771         0               75                   4               0   \n",
       "\n",
       "   blueKills  blueDeaths  blueAssists  blueEliteMonsters  blueDragons  ...  \\\n",
       "0          9           6           11                  0            0  ...   \n",
       "1          5           5            5                  0            0  ...   \n",
       "2          7          11            4                  1            1  ...   \n",
       "3          4           5            5                  1            0  ...   \n",
       "4          6           6            6                  0            0  ...   \n",
       "\n",
       "   redTowersDestroyed  redTotalGold  redAvgLevel  redTotalExperience  \\\n",
       "0                   0         16567          6.8               17047   \n",
       "1                   1         17620          6.8               17438   \n",
       "2                   0         17285          6.8               17254   \n",
       "3                   0         16478          7.0               17961   \n",
       "4                   0         17404          7.0               18313   \n",
       "\n",
       "   redTotalMinionsKilled  redTotalJungleMinionsKilled  redGoldDiff  \\\n",
       "0                    197                           55         -643   \n",
       "1                    240                           52         2908   \n",
       "2                    203                           28         1172   \n",
       "3                    235                           47         1321   \n",
       "4                    225                           67         1004   \n",
       "\n",
       "   redExperienceDiff  redCSPerMin  redGoldPerMin  \n",
       "0                  8         19.7         1656.7  \n",
       "1               1173         24.0         1762.0  \n",
       "2               1033         20.3         1728.5  \n",
       "3                  7         23.5         1647.8  \n",
       "4               -230         22.5         1740.4  \n",
       "\n",
       "[5 rows x 40 columns]"
      ]
     },
     "execution_count": 4,
     "metadata": {},
     "output_type": "execute_result"
    }
   ],
   "source": [
    "data = pd.read_csv('high_diamond_ranked_10min.csv')\n",
    "data.head()"
   ]
  },
  {
   "cell_type": "code",
   "execution_count": 5,
   "metadata": {
    "colab": {
     "base_uri": "https://localhost:8080/",
     "height": 806
    },
    "colab_type": "code",
    "executionInfo": {
     "elapsed": 50224,
     "status": "ok",
     "timestamp": 1597658694776,
     "user": {
      "displayName": "Alex Rymar",
      "photoUrl": "",
      "userId": "07124085059178606737"
     },
     "user_tz": -180
    },
    "id": "L3MwvDgUMyDR",
    "outputId": "1997df86-ee5d-4d24-e549-a228d5326097"
   },
   "outputs": [
    {
     "name": "stdout",
     "output_type": "stream",
     "text": [
      "<class 'pandas.core.frame.DataFrame'>\n",
      "RangeIndex: 9879 entries, 0 to 9878\n",
      "Data columns (total 40 columns):\n",
      "gameId                          9879 non-null int64\n",
      "blueWins                        9879 non-null int64\n",
      "blueWardsPlaced                 9879 non-null int64\n",
      "blueWardsDestroyed              9879 non-null int64\n",
      "blueFirstBlood                  9879 non-null int64\n",
      "blueKills                       9879 non-null int64\n",
      "blueDeaths                      9879 non-null int64\n",
      "blueAssists                     9879 non-null int64\n",
      "blueEliteMonsters               9879 non-null int64\n",
      "blueDragons                     9879 non-null int64\n",
      "blueHeralds                     9879 non-null int64\n",
      "blueTowersDestroyed             9879 non-null int64\n",
      "blueTotalGold                   9879 non-null int64\n",
      "blueAvgLevel                    9879 non-null float64\n",
      "blueTotalExperience             9879 non-null int64\n",
      "blueTotalMinionsKilled          9879 non-null int64\n",
      "blueTotalJungleMinionsKilled    9879 non-null int64\n",
      "blueGoldDiff                    9879 non-null int64\n",
      "blueExperienceDiff              9879 non-null int64\n",
      "blueCSPerMin                    9879 non-null float64\n",
      "blueGoldPerMin                  9879 non-null float64\n",
      "redWardsPlaced                  9879 non-null int64\n",
      "redWardsDestroyed               9879 non-null int64\n",
      "redFirstBlood                   9879 non-null int64\n",
      "redKills                        9879 non-null int64\n",
      "redDeaths                       9879 non-null int64\n",
      "redAssists                      9879 non-null int64\n",
      "redEliteMonsters                9879 non-null int64\n",
      "redDragons                      9879 non-null int64\n",
      "redHeralds                      9879 non-null int64\n",
      "redTowersDestroyed              9879 non-null int64\n",
      "redTotalGold                    9879 non-null int64\n",
      "redAvgLevel                     9879 non-null float64\n",
      "redTotalExperience              9879 non-null int64\n",
      "redTotalMinionsKilled           9879 non-null int64\n",
      "redTotalJungleMinionsKilled     9879 non-null int64\n",
      "redGoldDiff                     9879 non-null int64\n",
      "redExperienceDiff               9879 non-null int64\n",
      "redCSPerMin                     9879 non-null float64\n",
      "redGoldPerMin                   9879 non-null float64\n",
      "dtypes: float64(6), int64(34)\n",
      "memory usage: 3.0 MB\n"
     ]
    }
   ],
   "source": [
    "data.info()"
   ]
  },
  {
   "cell_type": "code",
   "execution_count": 6,
   "metadata": {
    "colab": {},
    "colab_type": "code",
    "executionInfo": {
     "elapsed": 50205,
     "status": "ok",
     "timestamp": 1597658694779,
     "user": {
      "displayName": "Alex Rymar",
      "photoUrl": "",
      "userId": "07124085059178606737"
     },
     "user_tz": -180
    },
    "id": "wGK5CewOMyDW"
   },
   "outputs": [],
   "source": [
    "data = data.drop('gameId',axis =1 )"
   ]
  },
  {
   "cell_type": "code",
   "execution_count": 7,
   "metadata": {
    "colab": {
     "base_uri": "https://localhost:8080/",
     "height": 304
    },
    "colab_type": "code",
    "executionInfo": {
     "elapsed": 50193,
     "status": "ok",
     "timestamp": 1597658694781,
     "user": {
      "displayName": "Alex Rymar",
      "photoUrl": "",
      "userId": "07124085059178606737"
     },
     "user_tz": -180
    },
    "id": "lmKDGpFVMyDa",
    "outputId": "0aa9a793-4ff9-4a4a-8f2c-0be9c892e905"
   },
   "outputs": [
    {
     "data": {
      "text/html": [
       "<div>\n",
       "<style scoped>\n",
       "    .dataframe tbody tr th:only-of-type {\n",
       "        vertical-align: middle;\n",
       "    }\n",
       "\n",
       "    .dataframe tbody tr th {\n",
       "        vertical-align: top;\n",
       "    }\n",
       "\n",
       "    .dataframe thead th {\n",
       "        text-align: right;\n",
       "    }\n",
       "</style>\n",
       "<table border=\"1\" class=\"dataframe\">\n",
       "  <thead>\n",
       "    <tr style=\"text-align: right;\">\n",
       "      <th></th>\n",
       "      <th>blueWins</th>\n",
       "      <th>blueWardsPlaced</th>\n",
       "      <th>blueWardsDestroyed</th>\n",
       "      <th>blueFirstBlood</th>\n",
       "      <th>blueKills</th>\n",
       "      <th>blueDeaths</th>\n",
       "      <th>blueAssists</th>\n",
       "      <th>blueEliteMonsters</th>\n",
       "      <th>blueDragons</th>\n",
       "      <th>blueHeralds</th>\n",
       "      <th>...</th>\n",
       "      <th>redTowersDestroyed</th>\n",
       "      <th>redTotalGold</th>\n",
       "      <th>redAvgLevel</th>\n",
       "      <th>redTotalExperience</th>\n",
       "      <th>redTotalMinionsKilled</th>\n",
       "      <th>redTotalJungleMinionsKilled</th>\n",
       "      <th>redGoldDiff</th>\n",
       "      <th>redExperienceDiff</th>\n",
       "      <th>redCSPerMin</th>\n",
       "      <th>redGoldPerMin</th>\n",
       "    </tr>\n",
       "  </thead>\n",
       "  <tbody>\n",
       "    <tr>\n",
       "      <th>count</th>\n",
       "      <td>9879.000000</td>\n",
       "      <td>9879.000000</td>\n",
       "      <td>9879.000000</td>\n",
       "      <td>9879.000000</td>\n",
       "      <td>9879.000000</td>\n",
       "      <td>9879.000000</td>\n",
       "      <td>9879.000000</td>\n",
       "      <td>9879.000000</td>\n",
       "      <td>9879.000000</td>\n",
       "      <td>9879.000000</td>\n",
       "      <td>...</td>\n",
       "      <td>9879.000000</td>\n",
       "      <td>9879.000000</td>\n",
       "      <td>9879.000000</td>\n",
       "      <td>9879.000000</td>\n",
       "      <td>9879.000000</td>\n",
       "      <td>9879.000000</td>\n",
       "      <td>9879.000000</td>\n",
       "      <td>9879.000000</td>\n",
       "      <td>9879.000000</td>\n",
       "      <td>9879.000000</td>\n",
       "    </tr>\n",
       "    <tr>\n",
       "      <th>mean</th>\n",
       "      <td>0.499038</td>\n",
       "      <td>22.288288</td>\n",
       "      <td>2.824881</td>\n",
       "      <td>0.504808</td>\n",
       "      <td>6.183925</td>\n",
       "      <td>6.137666</td>\n",
       "      <td>6.645106</td>\n",
       "      <td>0.549954</td>\n",
       "      <td>0.361980</td>\n",
       "      <td>0.187974</td>\n",
       "      <td>...</td>\n",
       "      <td>0.043021</td>\n",
       "      <td>16489.041401</td>\n",
       "      <td>6.925316</td>\n",
       "      <td>17961.730438</td>\n",
       "      <td>217.349226</td>\n",
       "      <td>51.313088</td>\n",
       "      <td>-14.414111</td>\n",
       "      <td>33.620306</td>\n",
       "      <td>21.734923</td>\n",
       "      <td>1648.904140</td>\n",
       "    </tr>\n",
       "    <tr>\n",
       "      <th>std</th>\n",
       "      <td>0.500024</td>\n",
       "      <td>18.019177</td>\n",
       "      <td>2.174998</td>\n",
       "      <td>0.500002</td>\n",
       "      <td>3.011028</td>\n",
       "      <td>2.933818</td>\n",
       "      <td>4.064520</td>\n",
       "      <td>0.625527</td>\n",
       "      <td>0.480597</td>\n",
       "      <td>0.390712</td>\n",
       "      <td>...</td>\n",
       "      <td>0.216900</td>\n",
       "      <td>1490.888406</td>\n",
       "      <td>0.305311</td>\n",
       "      <td>1198.583912</td>\n",
       "      <td>21.911668</td>\n",
       "      <td>10.027885</td>\n",
       "      <td>2453.349179</td>\n",
       "      <td>1920.370438</td>\n",
       "      <td>2.191167</td>\n",
       "      <td>149.088841</td>\n",
       "    </tr>\n",
       "    <tr>\n",
       "      <th>min</th>\n",
       "      <td>0.000000</td>\n",
       "      <td>5.000000</td>\n",
       "      <td>0.000000</td>\n",
       "      <td>0.000000</td>\n",
       "      <td>0.000000</td>\n",
       "      <td>0.000000</td>\n",
       "      <td>0.000000</td>\n",
       "      <td>0.000000</td>\n",
       "      <td>0.000000</td>\n",
       "      <td>0.000000</td>\n",
       "      <td>...</td>\n",
       "      <td>0.000000</td>\n",
       "      <td>11212.000000</td>\n",
       "      <td>4.800000</td>\n",
       "      <td>10465.000000</td>\n",
       "      <td>107.000000</td>\n",
       "      <td>4.000000</td>\n",
       "      <td>-11467.000000</td>\n",
       "      <td>-8348.000000</td>\n",
       "      <td>10.700000</td>\n",
       "      <td>1121.200000</td>\n",
       "    </tr>\n",
       "    <tr>\n",
       "      <th>25%</th>\n",
       "      <td>0.000000</td>\n",
       "      <td>14.000000</td>\n",
       "      <td>1.000000</td>\n",
       "      <td>0.000000</td>\n",
       "      <td>4.000000</td>\n",
       "      <td>4.000000</td>\n",
       "      <td>4.000000</td>\n",
       "      <td>0.000000</td>\n",
       "      <td>0.000000</td>\n",
       "      <td>0.000000</td>\n",
       "      <td>...</td>\n",
       "      <td>0.000000</td>\n",
       "      <td>15427.500000</td>\n",
       "      <td>6.800000</td>\n",
       "      <td>17209.500000</td>\n",
       "      <td>203.000000</td>\n",
       "      <td>44.000000</td>\n",
       "      <td>-1596.000000</td>\n",
       "      <td>-1212.000000</td>\n",
       "      <td>20.300000</td>\n",
       "      <td>1542.750000</td>\n",
       "    </tr>\n",
       "    <tr>\n",
       "      <th>50%</th>\n",
       "      <td>0.000000</td>\n",
       "      <td>16.000000</td>\n",
       "      <td>3.000000</td>\n",
       "      <td>1.000000</td>\n",
       "      <td>6.000000</td>\n",
       "      <td>6.000000</td>\n",
       "      <td>6.000000</td>\n",
       "      <td>0.000000</td>\n",
       "      <td>0.000000</td>\n",
       "      <td>0.000000</td>\n",
       "      <td>...</td>\n",
       "      <td>0.000000</td>\n",
       "      <td>16378.000000</td>\n",
       "      <td>7.000000</td>\n",
       "      <td>17974.000000</td>\n",
       "      <td>218.000000</td>\n",
       "      <td>51.000000</td>\n",
       "      <td>-14.000000</td>\n",
       "      <td>28.000000</td>\n",
       "      <td>21.800000</td>\n",
       "      <td>1637.800000</td>\n",
       "    </tr>\n",
       "    <tr>\n",
       "      <th>75%</th>\n",
       "      <td>1.000000</td>\n",
       "      <td>20.000000</td>\n",
       "      <td>4.000000</td>\n",
       "      <td>1.000000</td>\n",
       "      <td>8.000000</td>\n",
       "      <td>8.000000</td>\n",
       "      <td>9.000000</td>\n",
       "      <td>1.000000</td>\n",
       "      <td>1.000000</td>\n",
       "      <td>0.000000</td>\n",
       "      <td>...</td>\n",
       "      <td>0.000000</td>\n",
       "      <td>17418.500000</td>\n",
       "      <td>7.200000</td>\n",
       "      <td>18764.500000</td>\n",
       "      <td>233.000000</td>\n",
       "      <td>57.000000</td>\n",
       "      <td>1585.500000</td>\n",
       "      <td>1290.500000</td>\n",
       "      <td>23.300000</td>\n",
       "      <td>1741.850000</td>\n",
       "    </tr>\n",
       "    <tr>\n",
       "      <th>max</th>\n",
       "      <td>1.000000</td>\n",
       "      <td>250.000000</td>\n",
       "      <td>27.000000</td>\n",
       "      <td>1.000000</td>\n",
       "      <td>22.000000</td>\n",
       "      <td>22.000000</td>\n",
       "      <td>29.000000</td>\n",
       "      <td>2.000000</td>\n",
       "      <td>1.000000</td>\n",
       "      <td>1.000000</td>\n",
       "      <td>...</td>\n",
       "      <td>2.000000</td>\n",
       "      <td>22732.000000</td>\n",
       "      <td>8.200000</td>\n",
       "      <td>22269.000000</td>\n",
       "      <td>289.000000</td>\n",
       "      <td>92.000000</td>\n",
       "      <td>10830.000000</td>\n",
       "      <td>9333.000000</td>\n",
       "      <td>28.900000</td>\n",
       "      <td>2273.200000</td>\n",
       "    </tr>\n",
       "  </tbody>\n",
       "</table>\n",
       "<p>8 rows × 39 columns</p>\n",
       "</div>"
      ],
      "text/plain": [
       "          blueWins  blueWardsPlaced  blueWardsDestroyed  blueFirstBlood  \\\n",
       "count  9879.000000      9879.000000         9879.000000     9879.000000   \n",
       "mean      0.499038        22.288288            2.824881        0.504808   \n",
       "std       0.500024        18.019177            2.174998        0.500002   \n",
       "min       0.000000         5.000000            0.000000        0.000000   \n",
       "25%       0.000000        14.000000            1.000000        0.000000   \n",
       "50%       0.000000        16.000000            3.000000        1.000000   \n",
       "75%       1.000000        20.000000            4.000000        1.000000   \n",
       "max       1.000000       250.000000           27.000000        1.000000   \n",
       "\n",
       "         blueKills   blueDeaths  blueAssists  blueEliteMonsters  blueDragons  \\\n",
       "count  9879.000000  9879.000000  9879.000000        9879.000000  9879.000000   \n",
       "mean      6.183925     6.137666     6.645106           0.549954     0.361980   \n",
       "std       3.011028     2.933818     4.064520           0.625527     0.480597   \n",
       "min       0.000000     0.000000     0.000000           0.000000     0.000000   \n",
       "25%       4.000000     4.000000     4.000000           0.000000     0.000000   \n",
       "50%       6.000000     6.000000     6.000000           0.000000     0.000000   \n",
       "75%       8.000000     8.000000     9.000000           1.000000     1.000000   \n",
       "max      22.000000    22.000000    29.000000           2.000000     1.000000   \n",
       "\n",
       "       blueHeralds  ...  redTowersDestroyed  redTotalGold  redAvgLevel  \\\n",
       "count  9879.000000  ...         9879.000000   9879.000000  9879.000000   \n",
       "mean      0.187974  ...            0.043021  16489.041401     6.925316   \n",
       "std       0.390712  ...            0.216900   1490.888406     0.305311   \n",
       "min       0.000000  ...            0.000000  11212.000000     4.800000   \n",
       "25%       0.000000  ...            0.000000  15427.500000     6.800000   \n",
       "50%       0.000000  ...            0.000000  16378.000000     7.000000   \n",
       "75%       0.000000  ...            0.000000  17418.500000     7.200000   \n",
       "max       1.000000  ...            2.000000  22732.000000     8.200000   \n",
       "\n",
       "       redTotalExperience  redTotalMinionsKilled  redTotalJungleMinionsKilled  \\\n",
       "count         9879.000000            9879.000000                  9879.000000   \n",
       "mean         17961.730438             217.349226                    51.313088   \n",
       "std           1198.583912              21.911668                    10.027885   \n",
       "min          10465.000000             107.000000                     4.000000   \n",
       "25%          17209.500000             203.000000                    44.000000   \n",
       "50%          17974.000000             218.000000                    51.000000   \n",
       "75%          18764.500000             233.000000                    57.000000   \n",
       "max          22269.000000             289.000000                    92.000000   \n",
       "\n",
       "        redGoldDiff  redExperienceDiff  redCSPerMin  redGoldPerMin  \n",
       "count   9879.000000        9879.000000  9879.000000    9879.000000  \n",
       "mean     -14.414111          33.620306    21.734923    1648.904140  \n",
       "std     2453.349179        1920.370438     2.191167     149.088841  \n",
       "min   -11467.000000       -8348.000000    10.700000    1121.200000  \n",
       "25%    -1596.000000       -1212.000000    20.300000    1542.750000  \n",
       "50%      -14.000000          28.000000    21.800000    1637.800000  \n",
       "75%     1585.500000        1290.500000    23.300000    1741.850000  \n",
       "max    10830.000000        9333.000000    28.900000    2273.200000  \n",
       "\n",
       "[8 rows x 39 columns]"
      ]
     },
     "execution_count": 7,
     "metadata": {},
     "output_type": "execute_result"
    }
   ],
   "source": [
    "data.describe()"
   ]
  },
  {
   "cell_type": "markdown",
   "metadata": {},
   "source": [
    "\n",
    "It looks like some columns have abnormal values\n",
    "Let's plot them"
   ]
  },
  {
   "cell_type": "code",
   "execution_count": 8,
   "metadata": {
    "colab": {
     "base_uri": "https://localhost:8080/",
     "height": 424
    },
    "colab_type": "code",
    "executionInfo": {
     "elapsed": 50137,
     "status": "ok",
     "timestamp": 1597658694782,
     "user": {
      "displayName": "Alex Rymar",
      "photoUrl": "",
      "userId": "07124085059178606737"
     },
     "user_tz": -180
    },
    "id": "QvZbZ8l_MyDd",
    "outputId": "9f45ce7e-15b4-458b-e06a-a7744d361b58"
   },
   "outputs": [
    {
     "data": {
      "text/plain": [
       "<matplotlib.axes._subplots.AxesSubplot at 0x1ae67184e10>"
      ]
     },
     "execution_count": 8,
     "metadata": {},
     "output_type": "execute_result"
    },
    {
     "data": {
      "image/png": "[encoded data removed]",
      "text/plain": [
       "<Figure size 2160x576 with 1 Axes>"
      ]
     },
     "metadata": {
      "needs_background": "light"
     },
     "output_type": "display_data"
    }
   ],
   "source": [
    "plt.figure(figsize=(30,8))\n",
    "sns.countplot(data['blueWardsPlaced'])"
   ]
  },
  {
   "cell_type": "code",
   "execution_count": 9,
   "metadata": {
    "colab": {
     "base_uri": "https://localhost:8080/",
     "height": 424
    },
    "colab_type": "code",
    "executionInfo": {
     "elapsed": 51335,
     "status": "ok",
     "timestamp": 1597658695998,
     "user": {
      "displayName": "Alex Rymar",
      "photoUrl": "",
      "userId": "07124085059178606737"
     },
     "user_tz": -180
    },
    "id": "xWCPGcPWMyDf",
    "outputId": "1de99e68-d8fb-40f1-e9c6-fd188e4318db"
   },
   "outputs": [
    {
     "data": {
      "text/plain": [
       "<matplotlib.axes._subplots.AxesSubplot at 0x1ae68fe9a20>"
      ]
     },
     "execution_count": 9,
     "metadata": {},
     "output_type": "execute_result"
    },
    {
     "data": {
      "image/png": "[encoded data removed]",
      "text/plain": [
       "<Figure size 2160x576 with 1 Axes>"
      ]
     },
     "metadata": {
      "needs_background": "light"
     },
     "output_type": "display_data"
    }
   ],
   "source": [
    "plt.figure(figsize=(30,8))\n",
    "sns.countplot(data['redWardsPlaced'])"
   ]
  },
  {
   "cell_type": "code",
   "execution_count": 10,
   "metadata": {},
   "outputs": [
    {
     "data": {
      "text/plain": [
       "<matplotlib.axes._subplots.AxesSubplot at 0x1ae6949c5c0>"
      ]
     },
     "execution_count": 10,
     "metadata": {},
     "output_type": "execute_result"
    },
    {
     "data": {
      "image/png": "[encoded data removed]",
      "text/plain": [
       "<Figure size 1152x576 with 1 Axes>"
      ]
     },
     "metadata": {
      "needs_background": "light"
     },
     "output_type": "display_data"
    }
   ],
   "source": [
    "plt.figure(figsize=(16,8))\n",
    "sns.countplot(data['blueWardsDestroyed'])"
   ]
  },
  {
   "cell_type": "code",
   "execution_count": 11,
   "metadata": {},
   "outputs": [
    {
     "data": {
      "text/plain": [
       "<matplotlib.axes._subplots.AxesSubplot at 0x1ae6958d588>"
      ]
     },
     "execution_count": 11,
     "metadata": {},
     "output_type": "execute_result"
    },
    {
     "data": {
      "image/png": "[encoded data removed]",
      "text/plain": [
       "<Figure size 1152x576 with 1 Axes>"
      ]
     },
     "metadata": {
      "needs_background": "light"
     },
     "output_type": "display_data"
    }
   ],
   "source": [
    "plt.figure(figsize=(16,8))\n",
    "sns.countplot(data['redWardsDestroyed'])"
   ]
  },
  {
   "cell_type": "code",
   "execution_count": 12,
   "metadata": {},
   "outputs": [
    {
     "data": {
      "text/plain": [
       "<matplotlib.axes._subplots.AxesSubplot at 0x1ae6966ef28>"
      ]
     },
     "execution_count": 12,
     "metadata": {},
     "output_type": "execute_result"
    },
    {
     "data": {
      "image/png": "[encoded data removed]",
      "text/plain": [
       "<Figure size 432x288 with 1 Axes>"
      ]
     },
     "metadata": {
      "needs_background": "light"
     },
     "output_type": "display_data"
    }
   ],
   "source": [
    "sns.countplot(data['blueKills'])"
   ]
  },
  {
   "cell_type": "code",
   "execution_count": 13,
   "metadata": {},
   "outputs": [
    {
     "data": {
      "text/plain": [
       "<matplotlib.axes._subplots.AxesSubplot at 0x1ae69bb3cc0>"
      ]
     },
     "execution_count": 13,
     "metadata": {},
     "output_type": "execute_result"
    },
    {
     "data": {
      "image/png": "[encoded data removed]",
      "text/plain": [
       "<Figure size 432x288 with 1 Axes>"
      ]
     },
     "metadata": {
      "needs_background": "light"
     },
     "output_type": "display_data"
    }
   ],
   "source": [
    "sns.countplot(data['redKills'])"
   ]
  },
  {
   "cell_type": "markdown",
   "metadata": {},
   "source": [
    "Let's look at the correlation between the data"
   ]
  },
  {
   "cell_type": "code",
   "execution_count": 14,
   "metadata": {
    "colab": {},
    "colab_type": "code",
    "executionInfo": {
     "elapsed": 51324,
     "status": "ok",
     "timestamp": 1597658695999,
     "user": {
      "displayName": "Alex Rymar",
      "photoUrl": "",
      "userId": "07124085059178606737"
     },
     "user_tz": -180
    },
    "id": "9VRmN-SdMyDl"
   },
   "outputs": [],
   "source": [
    "corr = data.corr()"
   ]
  },
  {
   "cell_type": "code",
   "execution_count": 15,
   "metadata": {
    "colab": {
     "base_uri": "https://localhost:8080/",
     "height": 689
    },
    "colab_type": "code",
    "executionInfo": {
     "elapsed": 51312,
     "status": "ok",
     "timestamp": 1597658695999,
     "user": {
      "displayName": "Alex Rymar",
      "photoUrl": "",
      "userId": "07124085059178606737"
     },
     "user_tz": -180
    },
    "id": "MbLQkOTdMyDp",
    "outputId": "c0bcf92d-6856-4e3f-ea4c-234300190d10"
   },
   "outputs": [
    {
     "data": {
      "text/plain": [
       "redGoldDiff                    -0.511119\n",
       "redExperienceDiff              -0.489558\n",
       "redGoldPerMin                  -0.411396\n",
       "redTotalGold                   -0.411396\n",
       "redTotalExperience             -0.387588\n",
       "redAvgLevel                    -0.352127\n",
       "redKills                       -0.339297\n",
       "blueDeaths                     -0.339297\n",
       "redAssists                     -0.271047\n",
       "redEliteMonsters               -0.221551\n",
       "redCSPerMin                    -0.212171\n",
       "redTotalMinionsKilled          -0.212171\n",
       "redDragons                     -0.209516\n",
       "redFirstBlood                  -0.201769\n",
       "redTotalJungleMinionsKilled    -0.110994\n",
       "redTowersDestroyed             -0.103696\n",
       "redHeralds                     -0.097172\n",
       "redWardsDestroyed              -0.055400\n",
       "redWardsPlaced                 -0.023671\n",
       "blueWardsPlaced                 0.000087\n",
       "blueWardsDestroyed              0.044247\n",
       "blueHeralds                     0.092385\n",
       "blueTowersDestroyed             0.115566\n",
       "blueTotalJungleMinionsKilled    0.131445\n",
       "blueFirstBlood                  0.201769\n",
       "blueDragons                     0.213768\n",
       "blueEliteMonsters               0.221944\n",
       "blueCSPerMin                    0.224909\n",
       "blueTotalMinionsKilled          0.224909\n",
       "blueAssists                     0.276685\n",
       "blueKills                       0.337358\n",
       "redDeaths                       0.337358\n",
       "blueAvgLevel                    0.357820\n",
       "blueTotalExperience             0.396141\n",
       "blueTotalGold                   0.417213\n",
       "blueGoldPerMin                  0.417213\n",
       "blueExperienceDiff              0.489558\n",
       "blueGoldDiff                    0.511119\n",
       "blueWins                        1.000000\n",
       "Name: blueWins, dtype: float64"
      ]
     },
     "execution_count": 15,
     "metadata": {},
     "output_type": "execute_result"
    }
   ],
   "source": [
    "corr['blueWins'].sort_values()"
   ]
  },
  {
   "cell_type": "markdown",
   "metadata": {},
   "source": [
    "\n",
    "It seems that there is columns that have perfect correlation. We should drop it "
   ]
  },
  {
   "cell_type": "code",
   "execution_count": 16,
   "metadata": {
    "colab": {},
    "colab_type": "code",
    "executionInfo": {
     "elapsed": 51300,
     "status": "ok",
     "timestamp": 1597658696000,
     "user": {
      "displayName": "Alex Rymar",
      "photoUrl": "",
      "userId": "07124085059178606737"
     },
     "user_tz": -180
    },
    "id": "HnU3e4s-MyDs"
   },
   "outputs": [],
   "source": [
    "data = data.drop('redDeaths',axis=1)\n",
    "corr = corr.drop('redDeaths',axis=1)"
   ]
  },
  {
   "cell_type": "code",
   "execution_count": 17,
   "metadata": {
    "colab": {},
    "colab_type": "code",
    "executionInfo": {
     "elapsed": 51284,
     "status": "ok",
     "timestamp": 1597658696001,
     "user": {
      "displayName": "Alex Rymar",
      "photoUrl": "",
      "userId": "07124085059178606737"
     },
     "user_tz": -180
    },
    "id": "E0KtBap9MyDu"
   },
   "outputs": [],
   "source": [
    "data = data.drop('blueDeaths',axis =1)\n",
    "corr = corr.drop('blueDeaths',axis =1)"
   ]
  },
  {
   "cell_type": "code",
   "execution_count": 18,
   "metadata": {
    "colab": {
     "base_uri": "https://localhost:8080/",
     "height": 744
    },
    "colab_type": "code",
    "executionInfo": {
     "elapsed": 52872,
     "status": "ok",
     "timestamp": 1597658697601,
     "user": {
      "displayName": "Alex Rymar",
      "photoUrl": "",
      "userId": "07124085059178606737"
     },
     "user_tz": -180
    },
    "id": "g9GP-HCmMyDw",
    "outputId": "15204a41-b4d5-44b1-98ef-a5b3eb542c8b"
   },
   "outputs": [
    {
     "data": {
      "text/plain": [
       "<matplotlib.axes._subplots.AxesSubplot at 0x1ae69cb2160>"
      ]
     },
     "execution_count": 18,
     "metadata": {},
     "output_type": "execute_result"
    },
    {
     "data": {
      "image/png": "[encoded data removed]",
      "text/plain": [
       "<Figure size 864x720 with 2 Axes>"
      ]
     },
     "metadata": {
      "needs_background": "light"
     },
     "output_type": "display_data"
    }
   ],
   "source": [
    "plt.figure(figsize=(12,10))\n",
    "sns.heatmap(corr,cmap = 'plasma')"
   ]
  },
  {
   "cell_type": "code",
   "execution_count": 19,
   "metadata": {
    "colab": {},
    "colab_type": "code",
    "executionInfo": {
     "elapsed": 52867,
     "status": "ok",
     "timestamp": 1597658697611,
     "user": {
      "displayName": "Alex Rymar",
      "photoUrl": "",
      "userId": "07124085059178606737"
     },
     "user_tz": -180
    },
    "id": "FNTMWBq1MyDz"
   },
   "outputs": [],
   "source": [
    "data=data.drop('redFirstBlood',axis=1)\n",
    "corr=corr.drop('redFirstBlood',axis=1)"
   ]
  },
  {
   "cell_type": "code",
   "execution_count": 20,
   "metadata": {
    "colab": {
     "base_uri": "https://localhost:8080/",
     "height": 689
    },
    "colab_type": "code",
    "executionInfo": {
     "elapsed": 52856,
     "status": "ok",
     "timestamp": 1597658697613,
     "user": {
      "displayName": "Alex Rymar",
      "photoUrl": "",
      "userId": "07124085059178606737"
     },
     "user_tz": -180
    },
    "id": "Uz8qPpt9MyD2",
    "outputId": "b0e58fe7-92d3-4f1f-e2f1-2e5794e015ed"
   },
   "outputs": [
    {
     "data": {
      "text/plain": [
       "blueGoldDiff                   -0.804347\n",
       "blueExperienceDiff             -0.721190\n",
       "blueTotalExperience            -0.485059\n",
       "blueCSPerMin                   -0.447904\n",
       "blueTotalMinionsKilled         -0.447904\n",
       "blueAvgLevel                   -0.440031\n",
       "blueWins                       -0.411396\n",
       "blueGoldPerMin                 -0.314212\n",
       "blueTotalGold                  -0.314212\n",
       "blueFirstBlood                 -0.301479\n",
       "blueEliteMonsters              -0.216616\n",
       "blueDragons                    -0.192871\n",
       "blueTotalJungleMinionsKilled   -0.182167\n",
       "redDeaths                      -0.161127\n",
       "blueKills                      -0.161127\n",
       "blueAssists                    -0.133948\n",
       "blueTowersDestroyed            -0.122465\n",
       "blueHeralds                    -0.109557\n",
       "blueWardsDestroyed             -0.067467\n",
       "blueWardsPlaced                -0.005685\n",
       "redWardsPlaced                  0.010666\n",
       "redWardsDestroyed               0.070784\n",
       "redTotalJungleMinionsKilled     0.102632\n",
       "redHeralds                      0.151762\n",
       "redDragons                      0.178168\n",
       "redEliteMonsters                0.228861\n",
       "redTotalMinionsKilled           0.278715\n",
       "redCSPerMin                     0.278715\n",
       "redFirstBlood                   0.301479\n",
       "redTowersDestroyed              0.327503\n",
       "redAvgLevel                     0.614025\n",
       "redTotalExperience              0.669646\n",
       "redExperienceDiff               0.721190\n",
       "redAssists                      0.736215\n",
       "redGoldDiff                     0.804347\n",
       "redKills                        0.885728\n",
       "blueDeaths                      0.885728\n",
       "redGoldPerMin                   1.000000\n",
       "redTotalGold                    1.000000\n",
       "Name: redGoldPerMin, dtype: float64"
      ]
     },
     "execution_count": 20,
     "metadata": {},
     "output_type": "execute_result"
    }
   ],
   "source": [
    "corr['redGoldPerMin'].sort_values()"
   ]
  },
  {
   "cell_type": "code",
   "execution_count": 21,
   "metadata": {
    "colab": {
     "base_uri": "https://localhost:8080/",
     "height": 689
    },
    "colab_type": "code",
    "executionInfo": {
     "elapsed": 52835,
     "status": "ok",
     "timestamp": 1597658697614,
     "user": {
      "displayName": "Alex Rymar",
      "photoUrl": "",
      "userId": "07124085059178606737"
     },
     "user_tz": -180
    },
    "id": "04X8HfjJMyD5",
    "outputId": "fafe6406-3219-4f96-f926-5c52d34809dd"
   },
   "outputs": [
    {
     "data": {
      "text/plain": [
       "redGoldDiff                    -0.816803\n",
       "redExperienceDiff              -0.729345\n",
       "redTotalExperience             -0.491268\n",
       "redCSPerMin                    -0.452593\n",
       "redTotalMinionsKilled          -0.452593\n",
       "redAvgLevel                    -0.447049\n",
       "redGoldPerMin                  -0.314212\n",
       "redTotalGold                   -0.314212\n",
       "redFirstBlood                  -0.312058\n",
       "redEliteMonsters               -0.227236\n",
       "redDragons                     -0.201794\n",
       "redTotalJungleMinionsKilled    -0.175275\n",
       "blueDeaths                     -0.162572\n",
       "redKills                       -0.162572\n",
       "redAssists                     -0.128921\n",
       "redTowersDestroyed             -0.119579\n",
       "redHeralds                     -0.117257\n",
       "redWardsDestroyed              -0.090611\n",
       "redWardsPlaced                 -0.020069\n",
       "blueWardsPlaced                 0.019725\n",
       "blueWardsDestroyed              0.060054\n",
       "blueTotalJungleMinionsKilled    0.090769\n",
       "blueHeralds                     0.153974\n",
       "blueDragons                     0.186413\n",
       "blueEliteMonsters               0.239396\n",
       "blueTotalMinionsKilled          0.284902\n",
       "blueCSPerMin                    0.284902\n",
       "blueFirstBlood                  0.312058\n",
       "blueTowersDestroyed             0.350941\n",
       "blueWins                        0.417213\n",
       "blueAvgLevel                    0.616968\n",
       "blueTotalExperience             0.676193\n",
       "blueExperienceDiff              0.729345\n",
       "blueAssists                     0.748352\n",
       "blueGoldDiff                    0.816803\n",
       "blueKills                       0.888751\n",
       "redDeaths                       0.888751\n",
       "blueGoldPerMin                  1.000000\n",
       "blueTotalGold                   1.000000\n",
       "Name: blueGoldPerMin, dtype: float64"
      ]
     },
     "execution_count": 21,
     "metadata": {},
     "output_type": "execute_result"
    }
   ],
   "source": [
    "corr['blueGoldPerMin'].sort_values()"
   ]
  },
  {
   "cell_type": "code",
   "execution_count": 22,
   "metadata": {
    "colab": {},
    "colab_type": "code",
    "executionInfo": {
     "elapsed": 52824,
     "status": "ok",
     "timestamp": 1597658697616,
     "user": {
      "displayName": "Alex Rymar",
      "photoUrl": "",
      "userId": "07124085059178606737"
     },
     "user_tz": -180
    },
    "id": "ieIouDv4MyD7"
   },
   "outputs": [],
   "source": [
    "data = data.drop(['redTotalGold','blueTotalGold'],axis=1)\n",
    "corr = corr.drop(['redTotalGold','blueTotalGold'],axis=1)"
   ]
  },
  {
   "cell_type": "code",
   "execution_count": 23,
   "metadata": {
    "colab": {},
    "colab_type": "code",
    "executionInfo": {
     "elapsed": 52822,
     "status": "ok",
     "timestamp": 1597658697622,
     "user": {
      "displayName": "Alex Rymar",
      "photoUrl": "",
      "userId": "07124085059178606737"
     },
     "user_tz": -180
    },
    "id": "q9-Ci1TkMyD9"
   },
   "outputs": [],
   "source": [
    "data = data.drop('redGoldDiff',axis = 1)\n",
    "corr = corr.drop('redGoldDiff',axis = 1)"
   ]
  },
  {
   "cell_type": "code",
   "execution_count": 24,
   "metadata": {
    "colab": {},
    "colab_type": "code",
    "executionInfo": {
     "elapsed": 52816,
     "status": "ok",
     "timestamp": 1597658697625,
     "user": {
      "displayName": "Alex Rymar",
      "photoUrl": "",
      "userId": "07124085059178606737"
     },
     "user_tz": -180
    },
    "id": "NoxU2vX9MyEA"
   },
   "outputs": [],
   "source": [
    "data = data.drop('redExperienceDiff',axis=1)\n",
    "corr = corr.drop('redExperienceDiff',axis=1)"
   ]
  },
  {
   "cell_type": "code",
   "execution_count": 25,
   "metadata": {
    "colab": {
     "base_uri": "https://localhost:8080/",
     "height": 202
    },
    "colab_type": "code",
    "executionInfo": {
     "elapsed": 52799,
     "status": "ok",
     "timestamp": 1597658697626,
     "user": {
      "displayName": "Alex Rymar",
      "photoUrl": "",
      "userId": "07124085059178606737"
     },
     "user_tz": -180
    },
    "id": "eh4ob0n6MyEF",
    "outputId": "1487893f-a860-4ff7-fa0f-c24937ed20dd"
   },
   "outputs": [
    {
     "data": {
      "text/plain": [
       "Index(['blueWins', 'blueWardsPlaced', 'blueWardsDestroyed', 'blueFirstBlood',\n",
       "       'blueKills', 'blueAssists', 'blueEliteMonsters', 'blueDragons',\n",
       "       'blueHeralds', 'blueTowersDestroyed', 'blueAvgLevel',\n",
       "       'blueTotalExperience', 'blueTotalMinionsKilled',\n",
       "       'blueTotalJungleMinionsKilled', 'blueGoldDiff', 'blueExperienceDiff',\n",
       "       'blueCSPerMin', 'blueGoldPerMin', 'redWardsPlaced', 'redWardsDestroyed',\n",
       "       'redKills', 'redAssists', 'redEliteMonsters', 'redDragons',\n",
       "       'redHeralds', 'redTowersDestroyed', 'redAvgLevel', 'redTotalExperience',\n",
       "       'redTotalMinionsKilled', 'redTotalJungleMinionsKilled', 'redCSPerMin',\n",
       "       'redGoldPerMin'],\n",
       "      dtype='object')"
      ]
     },
     "execution_count": 25,
     "metadata": {},
     "output_type": "execute_result"
    }
   ],
   "source": [
    "data.columns"
   ]
  },
  {
   "cell_type": "code",
   "execution_count": 26,
   "metadata": {
    "colab": {},
    "colab_type": "code",
    "executionInfo": {
     "elapsed": 52787,
     "status": "ok",
     "timestamp": 1597658697628,
     "user": {
      "displayName": "Alex Rymar",
      "photoUrl": "",
      "userId": "07124085059178606737"
     },
     "user_tz": -180
    },
    "id": "qIxYPFswMyEJ"
   },
   "outputs": [],
   "source": [
    "data=data.drop(['redTotalMinionsKilled','blueTotalMinionsKilled'],axis=1)\n",
    "corr=corr.drop(['redTotalMinionsKilled','blueTotalMinionsKilled'],axis=1)"
   ]
  },
  {
   "cell_type": "code",
   "execution_count": 27,
   "metadata": {
    "colab": {
     "base_uri": "https://localhost:8080/",
     "height": 304
    },
    "colab_type": "code",
    "executionInfo": {
     "elapsed": 52773,
     "status": "ok",
     "timestamp": 1597658697629,
     "user": {
      "displayName": "Alex Rymar",
      "photoUrl": "",
      "userId": "07124085059178606737"
     },
     "user_tz": -180
    },
    "id": "rWGDtKEjMyEL",
    "outputId": "a129e8d8-f0b9-4bf2-bdee-ef8b6b3f3ef0"
   },
   "outputs": [
    {
     "data": {
      "text/html": [
       "<div>\n",
       "<style scoped>\n",
       "    .dataframe tbody tr th:only-of-type {\n",
       "        vertical-align: middle;\n",
       "    }\n",
       "\n",
       "    .dataframe tbody tr th {\n",
       "        vertical-align: top;\n",
       "    }\n",
       "\n",
       "    .dataframe thead th {\n",
       "        text-align: right;\n",
       "    }\n",
       "</style>\n",
       "<table border=\"1\" class=\"dataframe\">\n",
       "  <thead>\n",
       "    <tr style=\"text-align: right;\">\n",
       "      <th></th>\n",
       "      <th>blueWins</th>\n",
       "      <th>blueWardsPlaced</th>\n",
       "      <th>blueWardsDestroyed</th>\n",
       "      <th>blueFirstBlood</th>\n",
       "      <th>blueKills</th>\n",
       "      <th>blueAssists</th>\n",
       "      <th>blueEliteMonsters</th>\n",
       "      <th>blueDragons</th>\n",
       "      <th>blueHeralds</th>\n",
       "      <th>blueTowersDestroyed</th>\n",
       "      <th>...</th>\n",
       "      <th>redAssists</th>\n",
       "      <th>redEliteMonsters</th>\n",
       "      <th>redDragons</th>\n",
       "      <th>redHeralds</th>\n",
       "      <th>redTowersDestroyed</th>\n",
       "      <th>redAvgLevel</th>\n",
       "      <th>redTotalExperience</th>\n",
       "      <th>redTotalJungleMinionsKilled</th>\n",
       "      <th>redCSPerMin</th>\n",
       "      <th>redGoldPerMin</th>\n",
       "    </tr>\n",
       "  </thead>\n",
       "  <tbody>\n",
       "    <tr>\n",
       "      <th>count</th>\n",
       "      <td>9879.000000</td>\n",
       "      <td>9879.000000</td>\n",
       "      <td>9879.000000</td>\n",
       "      <td>9879.000000</td>\n",
       "      <td>9879.000000</td>\n",
       "      <td>9879.000000</td>\n",
       "      <td>9879.000000</td>\n",
       "      <td>9879.000000</td>\n",
       "      <td>9879.000000</td>\n",
       "      <td>9879.000000</td>\n",
       "      <td>...</td>\n",
       "      <td>9879.000000</td>\n",
       "      <td>9879.000000</td>\n",
       "      <td>9879.000000</td>\n",
       "      <td>9879.000000</td>\n",
       "      <td>9879.000000</td>\n",
       "      <td>9879.000000</td>\n",
       "      <td>9879.000000</td>\n",
       "      <td>9879.000000</td>\n",
       "      <td>9879.000000</td>\n",
       "      <td>9879.000000</td>\n",
       "    </tr>\n",
       "    <tr>\n",
       "      <th>mean</th>\n",
       "      <td>0.499038</td>\n",
       "      <td>22.288288</td>\n",
       "      <td>2.824881</td>\n",
       "      <td>0.504808</td>\n",
       "      <td>6.183925</td>\n",
       "      <td>6.645106</td>\n",
       "      <td>0.549954</td>\n",
       "      <td>0.361980</td>\n",
       "      <td>0.187974</td>\n",
       "      <td>0.051422</td>\n",
       "      <td>...</td>\n",
       "      <td>6.662112</td>\n",
       "      <td>0.573135</td>\n",
       "      <td>0.413098</td>\n",
       "      <td>0.160036</td>\n",
       "      <td>0.043021</td>\n",
       "      <td>6.925316</td>\n",
       "      <td>17961.730438</td>\n",
       "      <td>51.313088</td>\n",
       "      <td>21.734923</td>\n",
       "      <td>1648.904140</td>\n",
       "    </tr>\n",
       "    <tr>\n",
       "      <th>std</th>\n",
       "      <td>0.500024</td>\n",
       "      <td>18.019177</td>\n",
       "      <td>2.174998</td>\n",
       "      <td>0.500002</td>\n",
       "      <td>3.011028</td>\n",
       "      <td>4.064520</td>\n",
       "      <td>0.625527</td>\n",
       "      <td>0.480597</td>\n",
       "      <td>0.390712</td>\n",
       "      <td>0.244369</td>\n",
       "      <td>...</td>\n",
       "      <td>4.060612</td>\n",
       "      <td>0.626482</td>\n",
       "      <td>0.492415</td>\n",
       "      <td>0.366658</td>\n",
       "      <td>0.216900</td>\n",
       "      <td>0.305311</td>\n",
       "      <td>1198.583912</td>\n",
       "      <td>10.027885</td>\n",
       "      <td>2.191167</td>\n",
       "      <td>149.088841</td>\n",
       "    </tr>\n",
       "    <tr>\n",
       "      <th>min</th>\n",
       "      <td>0.000000</td>\n",
       "      <td>5.000000</td>\n",
       "      <td>0.000000</td>\n",
       "      <td>0.000000</td>\n",
       "      <td>0.000000</td>\n",
       "      <td>0.000000</td>\n",
       "      <td>0.000000</td>\n",
       "      <td>0.000000</td>\n",
       "      <td>0.000000</td>\n",
       "      <td>0.000000</td>\n",
       "      <td>...</td>\n",
       "      <td>0.000000</td>\n",
       "      <td>0.000000</td>\n",
       "      <td>0.000000</td>\n",
       "      <td>0.000000</td>\n",
       "      <td>0.000000</td>\n",
       "      <td>4.800000</td>\n",
       "      <td>10465.000000</td>\n",
       "      <td>4.000000</td>\n",
       "      <td>10.700000</td>\n",
       "      <td>1121.200000</td>\n",
       "    </tr>\n",
       "    <tr>\n",
       "      <th>25%</th>\n",
       "      <td>0.000000</td>\n",
       "      <td>14.000000</td>\n",
       "      <td>1.000000</td>\n",
       "      <td>0.000000</td>\n",
       "      <td>4.000000</td>\n",
       "      <td>4.000000</td>\n",
       "      <td>0.000000</td>\n",
       "      <td>0.000000</td>\n",
       "      <td>0.000000</td>\n",
       "      <td>0.000000</td>\n",
       "      <td>...</td>\n",
       "      <td>4.000000</td>\n",
       "      <td>0.000000</td>\n",
       "      <td>0.000000</td>\n",
       "      <td>0.000000</td>\n",
       "      <td>0.000000</td>\n",
       "      <td>6.800000</td>\n",
       "      <td>17209.500000</td>\n",
       "      <td>44.000000</td>\n",
       "      <td>20.300000</td>\n",
       "      <td>1542.750000</td>\n",
       "    </tr>\n",
       "    <tr>\n",
       "      <th>50%</th>\n",
       "      <td>0.000000</td>\n",
       "      <td>16.000000</td>\n",
       "      <td>3.000000</td>\n",
       "      <td>1.000000</td>\n",
       "      <td>6.000000</td>\n",
       "      <td>6.000000</td>\n",
       "      <td>0.000000</td>\n",
       "      <td>0.000000</td>\n",
       "      <td>0.000000</td>\n",
       "      <td>0.000000</td>\n",
       "      <td>...</td>\n",
       "      <td>6.000000</td>\n",
       "      <td>0.000000</td>\n",
       "      <td>0.000000</td>\n",
       "      <td>0.000000</td>\n",
       "      <td>0.000000</td>\n",
       "      <td>7.000000</td>\n",
       "      <td>17974.000000</td>\n",
       "      <td>51.000000</td>\n",
       "      <td>21.800000</td>\n",
       "      <td>1637.800000</td>\n",
       "    </tr>\n",
       "    <tr>\n",
       "      <th>75%</th>\n",
       "      <td>1.000000</td>\n",
       "      <td>20.000000</td>\n",
       "      <td>4.000000</td>\n",
       "      <td>1.000000</td>\n",
       "      <td>8.000000</td>\n",
       "      <td>9.000000</td>\n",
       "      <td>1.000000</td>\n",
       "      <td>1.000000</td>\n",
       "      <td>0.000000</td>\n",
       "      <td>0.000000</td>\n",
       "      <td>...</td>\n",
       "      <td>9.000000</td>\n",
       "      <td>1.000000</td>\n",
       "      <td>1.000000</td>\n",
       "      <td>0.000000</td>\n",
       "      <td>0.000000</td>\n",
       "      <td>7.200000</td>\n",
       "      <td>18764.500000</td>\n",
       "      <td>57.000000</td>\n",
       "      <td>23.300000</td>\n",
       "      <td>1741.850000</td>\n",
       "    </tr>\n",
       "    <tr>\n",
       "      <th>max</th>\n",
       "      <td>1.000000</td>\n",
       "      <td>250.000000</td>\n",
       "      <td>27.000000</td>\n",
       "      <td>1.000000</td>\n",
       "      <td>22.000000</td>\n",
       "      <td>29.000000</td>\n",
       "      <td>2.000000</td>\n",
       "      <td>1.000000</td>\n",
       "      <td>1.000000</td>\n",
       "      <td>4.000000</td>\n",
       "      <td>...</td>\n",
       "      <td>28.000000</td>\n",
       "      <td>2.000000</td>\n",
       "      <td>1.000000</td>\n",
       "      <td>1.000000</td>\n",
       "      <td>2.000000</td>\n",
       "      <td>8.200000</td>\n",
       "      <td>22269.000000</td>\n",
       "      <td>92.000000</td>\n",
       "      <td>28.900000</td>\n",
       "      <td>2273.200000</td>\n",
       "    </tr>\n",
       "  </tbody>\n",
       "</table>\n",
       "<p>8 rows × 30 columns</p>\n",
       "</div>"
      ],
      "text/plain": [
       "          blueWins  blueWardsPlaced  blueWardsDestroyed  blueFirstBlood  \\\n",
       "count  9879.000000      9879.000000         9879.000000     9879.000000   \n",
       "mean      0.499038        22.288288            2.824881        0.504808   \n",
       "std       0.500024        18.019177            2.174998        0.500002   \n",
       "min       0.000000         5.000000            0.000000        0.000000   \n",
       "25%       0.000000        14.000000            1.000000        0.000000   \n",
       "50%       0.000000        16.000000            3.000000        1.000000   \n",
       "75%       1.000000        20.000000            4.000000        1.000000   \n",
       "max       1.000000       250.000000           27.000000        1.000000   \n",
       "\n",
       "         blueKills  blueAssists  blueEliteMonsters  blueDragons  blueHeralds  \\\n",
       "count  9879.000000  9879.000000        9879.000000  9879.000000  9879.000000   \n",
       "mean      6.183925     6.645106           0.549954     0.361980     0.187974   \n",
       "std       3.011028     4.064520           0.625527     0.480597     0.390712   \n",
       "min       0.000000     0.000000           0.000000     0.000000     0.000000   \n",
       "25%       4.000000     4.000000           0.000000     0.000000     0.000000   \n",
       "50%       6.000000     6.000000           0.000000     0.000000     0.000000   \n",
       "75%       8.000000     9.000000           1.000000     1.000000     0.000000   \n",
       "max      22.000000    29.000000           2.000000     1.000000     1.000000   \n",
       "\n",
       "       blueTowersDestroyed  ...   redAssists  redEliteMonsters   redDragons  \\\n",
       "count          9879.000000  ...  9879.000000       9879.000000  9879.000000   \n",
       "mean              0.051422  ...     6.662112          0.573135     0.413098   \n",
       "std               0.244369  ...     4.060612          0.626482     0.492415   \n",
       "min               0.000000  ...     0.000000          0.000000     0.000000   \n",
       "25%               0.000000  ...     4.000000          0.000000     0.000000   \n",
       "50%               0.000000  ...     6.000000          0.000000     0.000000   \n",
       "75%               0.000000  ...     9.000000          1.000000     1.000000   \n",
       "max               4.000000  ...    28.000000          2.000000     1.000000   \n",
       "\n",
       "        redHeralds  redTowersDestroyed  redAvgLevel  redTotalExperience  \\\n",
       "count  9879.000000         9879.000000  9879.000000         9879.000000   \n",
       "mean      0.160036            0.043021     6.925316        17961.730438   \n",
       "std       0.366658            0.216900     0.305311         1198.583912   \n",
       "min       0.000000            0.000000     4.800000        10465.000000   \n",
       "25%       0.000000            0.000000     6.800000        17209.500000   \n",
       "50%       0.000000            0.000000     7.000000        17974.000000   \n",
       "75%       0.000000            0.000000     7.200000        18764.500000   \n",
       "max       1.000000            2.000000     8.200000        22269.000000   \n",
       "\n",
       "       redTotalJungleMinionsKilled  redCSPerMin  redGoldPerMin  \n",
       "count                  9879.000000  9879.000000    9879.000000  \n",
       "mean                     51.313088    21.734923    1648.904140  \n",
       "std                      10.027885     2.191167     149.088841  \n",
       "min                       4.000000    10.700000    1121.200000  \n",
       "25%                      44.000000    20.300000    1542.750000  \n",
       "50%                      51.000000    21.800000    1637.800000  \n",
       "75%                      57.000000    23.300000    1741.850000  \n",
       "max                      92.000000    28.900000    2273.200000  \n",
       "\n",
       "[8 rows x 30 columns]"
      ]
     },
     "execution_count": 27,
     "metadata": {},
     "output_type": "execute_result"
    }
   ],
   "source": [
    "data.describe()"
   ]
  },
  {
   "cell_type": "code",
   "execution_count": 28,
   "metadata": {
    "colab": {
     "base_uri": "https://localhost:8080/",
     "height": 853
    },
    "colab_type": "code",
    "executionInfo": {
     "elapsed": 54314,
     "status": "ok",
     "timestamp": 1597658699186,
     "user": {
      "displayName": "Alex Rymar",
      "photoUrl": "",
      "userId": "07124085059178606737"
     },
     "user_tz": -180
    },
    "id": "eNb2oSUBMyEO",
    "outputId": "7295cf27-4c7d-4adf-abf9-d43649a45396"
   },
   "outputs": [
    {
     "data": {
      "text/plain": [
       "<matplotlib.axes._subplots.AxesSubplot at 0x1ae69bc4438>"
      ]
     },
     "execution_count": 28,
     "metadata": {},
     "output_type": "execute_result"
    },
    {
     "data": {
      "image/png": "[encoded data removed]",
      "text/plain": [
       "<Figure size 1152x864 with 2 Axes>"
      ]
     },
     "metadata": {
      "needs_background": "light"
     },
     "output_type": "display_data"
    }
   ],
   "source": [
    "plt.figure(figsize=(16,12))\n",
    "sns.heatmap(data.corr(),cmap='plasma')"
   ]
  },
  {
   "cell_type": "markdown",
   "metadata": {},
   "source": [
    "## Dealing with abnormal data"
   ]
  },
  {
   "cell_type": "markdown",
   "metadata": {},
   "source": [
    "For this we use the Thompson and Tietjen criteria for the first approach and simple column's dorping for second"
   ]
  },
  {
   "cell_type": "code",
   "execution_count": 29,
   "metadata": {
    "colab": {
     "base_uri": "https://localhost:8080/",
     "height": 302
    },
    "colab_type": "code",
    "executionInfo": {
     "elapsed": 60074,
     "status": "ok",
     "timestamp": 1597658705017,
     "user": {
      "displayName": "Alex Rymar",
      "photoUrl": "",
      "userId": "07124085059178606737"
     },
     "user_tz": -180
    },
    "id": "cRJjhhVtOdSs",
    "outputId": "55cdae60-4f27-4525-d62e-8bdaad43c32e"
   },
   "outputs": [],
   "source": [
    "#!pip install scikit_posthocs"
   ]
  },
  {
   "cell_type": "code",
   "execution_count": 30,
   "metadata": {
    "colab": {},
    "colab_type": "code",
    "executionInfo": {
     "elapsed": 60059,
     "status": "ok",
     "timestamp": 1597658705018,
     "user": {
      "displayName": "Alex Rymar",
      "photoUrl": "",
      "userId": "07124085059178606737"
     },
     "user_tz": -180
    },
    "id": "rHtVsXh9MyEa"
   },
   "outputs": [],
   "source": [
    "from scikit_posthocs import outliers_tietjen as ot"
   ]
  },
  {
   "cell_type": "code",
   "execution_count": 31,
   "metadata": {
    "colab": {},
    "colab_type": "code",
    "executionInfo": {
     "elapsed": 60048,
     "status": "ok",
     "timestamp": 1597658705019,
     "user": {
      "displayName": "Alex Rymar",
      "photoUrl": "",
      "userId": "07124085059178606737"
     },
     "user_tz": -180
    },
    "id": "_aKJtbZHMyEc"
   },
   "outputs": [],
   "source": [
    "def Tompson(data,column,alpha=0.05):\n",
    "    mean = data[column].mean()\n",
    "    std = data[column].std()       \n",
    "    series = data[column].copy()                            \n",
    "    series = abs(series - mean)                                  \n",
    "    suspect_id = series[series==series.max()].index[0]            \n",
    "    suspect = series.max()\n",
    "    score = (suspect - mean)/std\n",
    "    t_score = (np.sqrt(len(series)-2)*score)/np.sqrt(len(series)-1-score**2)\n",
    "    if abs(t_score)>t.ppf(1-alpha/2,len(series)-2) : \n",
    "        return (True,suspect_id)\n",
    "    else : \n",
    "        return (False,0)"
   ]
  },
  {
   "cell_type": "code",
   "execution_count": 32,
   "metadata": {
    "colab": {},
    "colab_type": "code",
    "executionInfo": {
     "elapsed": 60038,
     "status": "ok",
     "timestamp": 1597658705020,
     "user": {
      "displayName": "Alex Rymar",
      "photoUrl": "",
      "userId": "07124085059178606737"
     },
     "user_tz": -180
    },
    "id": "2enlXWbWMyEf"
   },
   "outputs": [],
   "source": [
    "def Tietjen(dcopy,column,k=1,alpha = 0.05):\n",
    "    #to_del = []\n",
    "    #dcopy = data.copy()\n",
    "    if k == 1 :\n",
    "        tom = Tompson(dcopy,column,alpha)\n",
    "        if tom[0]==True : \n",
    "            dcopy.drop(tom[1],inplace = True )\n",
    "            print('out - true')\n",
    "            return dcopy\n",
    "        else :\n",
    "            print('out - false')\n",
    "            return dcopy\n",
    "    else :\n",
    "        if ot(dcopy[column],k,hypo=True,alpha = alpha) == False :\n",
    "            k=int(k/2)\n",
    "            print('decrising k, now k = ',k)\n",
    "            return Tietjen(dcopy,column,k,alpha)\n",
    "            \n",
    "        else :\n",
    "            #series = dcopy[column].copy()\n",
    "            #series = abs(series - series.mean())\n",
    "            dcopy.drop(abs(dcopy[column] - dcopy[column].mean()).sort_values()[len(dcopy)-k:].index.tolist(),inplace = True)\n",
    "            print('droping, now len = ',len(dcopy))\n",
    "            return Tietjen(dcopy,column,k,alpha)\n",
    "            \n",
    "        \n",
    "        "
   ]
  },
  {
   "cell_type": "code",
   "execution_count": 33,
   "metadata": {
    "colab": {},
    "colab_type": "code",
    "executionInfo": {
     "elapsed": 60367,
     "status": "ok",
     "timestamp": 1597658705359,
     "user": {
      "displayName": "Alex Rymar",
      "photoUrl": "",
      "userId": "07124085059178606737"
     },
     "user_tz": -180
    },
    "id": "9UwDOxa-MyEh"
   },
   "outputs": [],
   "source": [
    "data_cp = data.copy()\n",
    "data_save = data.copy()"
   ]
  },
  {
   "cell_type": "code",
   "execution_count": 34,
   "metadata": {
    "colab": {
     "base_uri": "https://localhost:8080/",
     "height": 252
    },
    "colab_type": "code",
    "executionInfo": {
     "elapsed": 203091,
     "status": "ok",
     "timestamp": 1597658848096,
     "user": {
      "displayName": "Alex Rymar",
      "photoUrl": "",
      "userId": "07124085059178606737"
     },
     "user_tz": -180
    },
    "id": "WGDDTgJbMyEk",
    "outputId": "f0f6a2ac-3390-4b48-bb9f-6d9a31fe84e1"
   },
   "outputs": [
    {
     "name": "stdout",
     "output_type": "stream",
     "text": [
      "droping, now len =  9367\n",
      "droping, now len =  8855\n",
      "droping, now len =  8343\n",
      "droping, now len =  7831\n",
      "decrising k, now k =  256\n",
      "decrising k, now k =  128\n",
      "decrising k, now k =  64\n",
      "decrising k, now k =  32\n",
      "decrising k, now k =  16\n",
      "decrising k, now k =  8\n",
      "decrising k, now k =  4\n",
      "decrising k, now k =  2\n",
      "decrising k, now k =  1\n",
      "out - true\n"
     ]
    }
   ],
   "source": [
    "data_cp = Tietjen(data_cp,'blueWardsPlaced',k=512)"
   ]
  },
  {
   "cell_type": "code",
   "execution_count": 35,
   "metadata": {
    "colab": {
     "base_uri": "https://localhost:8080/",
     "height": 252
    },
    "colab_type": "code",
    "executionInfo": {
     "elapsed": 310702,
     "status": "ok",
     "timestamp": 1597658955722,
     "user": {
      "displayName": "Alex Rymar",
      "photoUrl": "",
      "userId": "07124085059178606737"
     },
     "user_tz": -180
    },
    "id": "FkTvtACjMyEn",
    "outputId": "44d18f01-49a6-4723-fa8e-6b9557305e8c"
   },
   "outputs": [
    {
     "name": "stdout",
     "output_type": "stream",
     "text": [
      "droping, now len =  7318\n",
      "droping, now len =  6806\n",
      "droping, now len =  6294\n",
      "droping, now len =  5782\n",
      "decrising k, now k =  256\n",
      "decrising k, now k =  128\n",
      "decrising k, now k =  64\n",
      "decrising k, now k =  32\n",
      "decrising k, now k =  16\n",
      "decrising k, now k =  8\n",
      "decrising k, now k =  4\n",
      "decrising k, now k =  2\n",
      "decrising k, now k =  1\n",
      "out - true\n"
     ]
    }
   ],
   "source": [
    "data_cp = Tietjen(data_cp,'redWardsPlaced',k=512)"
   ]
  },
  {
   "cell_type": "code",
   "execution_count": 36,
   "metadata": {
    "colab": {
     "base_uri": "https://localhost:8080/",
     "height": 405
    },
    "colab_type": "code",
    "executionInfo": {
     "elapsed": 310686,
     "status": "ok",
     "timestamp": 1597658955723,
     "user": {
      "displayName": "Alex Rymar",
      "photoUrl": "",
      "userId": "07124085059178606737"
     },
     "user_tz": -180
    },
    "id": "tnWCm3E5MyEr",
    "outputId": "ad057079-2819-44cf-a051-edc57b280a4a"
   },
   "outputs": [
    {
     "data": {
      "text/plain": [
       "<matplotlib.axes._subplots.AxesSubplot at 0x1ae6a566470>"
      ]
     },
     "execution_count": 36,
     "metadata": {},
     "output_type": "execute_result"
    },
    {
     "data": {
      "image/png": "[encoded data removed]",
      "text/plain": [
       "<Figure size 864x432 with 1 Axes>"
      ]
     },
     "metadata": {
      "needs_background": "light"
     },
     "output_type": "display_data"
    }
   ],
   "source": [
    "plt.figure(figsize=(12,6))\n",
    "sns.countplot('redWardsPlaced',data=data_cp)"
   ]
  },
  {
   "cell_type": "code",
   "execution_count": 37,
   "metadata": {
    "colab": {
     "base_uri": "https://localhost:8080/",
     "height": 405
    },
    "colab_type": "code",
    "executionInfo": {
     "elapsed": 311059,
     "status": "ok",
     "timestamp": 1597658956109,
     "user": {
      "displayName": "Alex Rymar",
      "photoUrl": "",
      "userId": "07124085059178606737"
     },
     "user_tz": -180
    },
    "id": "hBr5JhmKMyEu",
    "outputId": "5bdd33fc-b60d-4c28-9a2d-1fa99e09db83"
   },
   "outputs": [
    {
     "data": {
      "text/plain": [
       "<matplotlib.axes._subplots.AxesSubplot at 0x1ae68b96e80>"
      ]
     },
     "execution_count": 37,
     "metadata": {},
     "output_type": "execute_result"
    },
    {
     "data": {
      "image/png": "[encoded data removed]",
      "text/plain": [
       "<Figure size 864x432 with 1 Axes>"
      ]
     },
     "metadata": {
      "needs_background": "light"
     },
     "output_type": "display_data"
    }
   ],
   "source": [
    "plt.figure(figsize=(12,6))\n",
    "sns.countplot('blueWardsPlaced',data = data_cp)"
   ]
  },
  {
   "cell_type": "code",
   "execution_count": 38,
   "metadata": {
    "colab": {
     "base_uri": "https://localhost:8080/",
     "height": 514
    },
    "colab_type": "code",
    "executionInfo": {
     "elapsed": 312114,
     "status": "ok",
     "timestamp": 1597658957179,
     "user": {
      "displayName": "Alex Rymar",
      "photoUrl": "",
      "userId": "07124085059178606737"
     },
     "user_tz": -180
    },
    "id": "W4c62oleMyEx",
    "outputId": "a9da97c2-858d-41e0-a0b9-e8be17cdcac7"
   },
   "outputs": [
    {
     "data": {
      "text/plain": [
       "<matplotlib.axes._subplots.AxesSubplot at 0x1ae6ab35ac8>"
      ]
     },
     "execution_count": 38,
     "metadata": {},
     "output_type": "execute_result"
    },
    {
     "data": {
      "image/png": "[encoded data removed]",
      "text/plain": [
       "<Figure size 864x576 with 1 Axes>"
      ]
     },
     "metadata": {
      "needs_background": "light"
     },
     "output_type": "display_data"
    }
   ],
   "source": [
    "plt.figure(figsize=(12,8))\n",
    "sns.scatterplot(x='blueGoldDiff',y='blueExperienceDiff',data=data_cp,hue='blueWins',size=1)"
   ]
  },
  {
   "cell_type": "code",
   "execution_count": 39,
   "metadata": {
    "colab": {
     "base_uri": "https://localhost:8080/",
     "height": 514
    },
    "colab_type": "code",
    "executionInfo": {
     "elapsed": 313294,
     "status": "ok",
     "timestamp": 1597658958372,
     "user": {
      "displayName": "Alex Rymar",
      "photoUrl": "",
      "userId": "07124085059178606737"
     },
     "user_tz": -180
    },
    "id": "lkgr_tn2P7HC",
    "outputId": "b3ae06da-a74f-45b3-a965-4f1ab5b105cd"
   },
   "outputs": [
    {
     "data": {
      "text/plain": [
       "<matplotlib.axes._subplots.AxesSubplot at 0x1ae6ab321d0>"
      ]
     },
     "execution_count": 39,
     "metadata": {},
     "output_type": "execute_result"
    },
    {
     "data": {
      "image/png": "[encoded data removed]",
      "text/plain": [
       "<Figure size 864x576 with 1 Axes>"
      ]
     },
     "metadata": {
      "needs_background": "light"
     },
     "output_type": "display_data"
    }
   ],
   "source": [
    "plt.figure(figsize=(12,8))\n",
    "sns.scatterplot(x='blueGoldDiff',y='blueExperienceDiff',data=data_save,hue='blueWins',size=1)"
   ]
  },
  {
   "cell_type": "code",
   "execution_count": 40,
   "metadata": {
    "colab": {
     "base_uri": "https://localhost:8080/",
     "height": 168
    },
    "colab_type": "code",
    "executionInfo": {
     "elapsed": 374207,
     "status": "ok",
     "timestamp": 1597659019314,
     "user": {
      "displayName": "Alex Rymar",
      "photoUrl": "",
      "userId": "07124085059178606737"
     },
     "user_tz": -180
    },
    "id": "seucxOreMyE2",
    "outputId": "8958f516-f1ed-4cdc-8930-91abe117bd44"
   },
   "outputs": [
    {
     "name": "stdout",
     "output_type": "stream",
     "text": [
      "droping, now len =  5653\n",
      "decrising k, now k =  64\n",
      "decrising k, now k =  32\n",
      "decrising k, now k =  16\n",
      "decrising k, now k =  8\n",
      "decrising k, now k =  4\n",
      "decrising k, now k =  2\n",
      "decrising k, now k =  1\n",
      "out - false\n"
     ]
    }
   ],
   "source": [
    "data_cp = Tietjen(data_cp,'blueKills',k=128)"
   ]
  },
  {
   "cell_type": "code",
   "execution_count": 41,
   "metadata": {
    "colab": {
     "base_uri": "https://localhost:8080/",
     "height": 296
    },
    "colab_type": "code",
    "executionInfo": {
     "elapsed": 374172,
     "status": "ok",
     "timestamp": 1597659019318,
     "user": {
      "displayName": "Alex Rymar",
      "photoUrl": "",
      "userId": "07124085059178606737"
     },
     "user_tz": -180
    },
    "id": "95jrZIqcMyE7",
    "outputId": "b54bc03c-a665-4d4f-cbcf-f71af04df0f8"
   },
   "outputs": [
    {
     "data": {
      "text/plain": [
       "<matplotlib.axes._subplots.AxesSubplot at 0x1ae6c6c6b70>"
      ]
     },
     "execution_count": 41,
     "metadata": {},
     "output_type": "execute_result"
    },
    {
     "data": {
      "image/png": "[encoded data removed]",
      "text/plain": [
       "<Figure size 432x288 with 1 Axes>"
      ]
     },
     "metadata": {
      "needs_background": "light"
     },
     "output_type": "display_data"
    }
   ],
   "source": [
    "sns.countplot(data_cp['blueKills'])"
   ]
  },
  {
   "cell_type": "code",
   "execution_count": 42,
   "metadata": {
    "colab": {
     "base_uri": "https://localhost:8080/",
     "height": 168
    },
    "colab_type": "code",
    "executionInfo": {
     "elapsed": 433688,
     "status": "ok",
     "timestamp": 1597659078850,
     "user": {
      "displayName": "Alex Rymar",
      "photoUrl": "",
      "userId": "07124085059178606737"
     },
     "user_tz": -180
    },
    "id": "_8tnTQYTMyE9",
    "outputId": "b667b347-80bd-45b7-b7ab-90bb523e7fb7"
   },
   "outputs": [
    {
     "name": "stdout",
     "output_type": "stream",
     "text": [
      "droping, now len =  5525\n",
      "decrising k, now k =  64\n",
      "decrising k, now k =  32\n",
      "decrising k, now k =  16\n",
      "decrising k, now k =  8\n",
      "decrising k, now k =  4\n",
      "decrising k, now k =  2\n",
      "decrising k, now k =  1\n",
      "out - false\n"
     ]
    }
   ],
   "source": [
    "data_cp = Tietjen(data_cp,'redKills',k=128)"
   ]
  },
  {
   "cell_type": "code",
   "execution_count": 43,
   "metadata": {
    "colab": {
     "base_uri": "https://localhost:8080/",
     "height": 168
    },
    "colab_type": "code",
    "executionInfo": {
     "elapsed": 491729,
     "status": "ok",
     "timestamp": 1597659136908,
     "user": {
      "displayName": "Alex Rymar",
      "photoUrl": "",
      "userId": "07124085059178606737"
     },
     "user_tz": -180
    },
    "id": "0mAVstNxMyE_",
    "outputId": "aba16ac8-e66f-4e30-96bc-aa2342afba9f"
   },
   "outputs": [
    {
     "name": "stdout",
     "output_type": "stream",
     "text": [
      "droping, now len =  5397\n",
      "decrising k, now k =  64\n",
      "decrising k, now k =  32\n",
      "decrising k, now k =  16\n",
      "decrising k, now k =  8\n",
      "decrising k, now k =  4\n",
      "decrising k, now k =  2\n",
      "decrising k, now k =  1\n",
      "out - false\n"
     ]
    }
   ],
   "source": [
    "data_cp = Tietjen(data_cp,'blueWardsDestroyed',k=128)"
   ]
  },
  {
   "cell_type": "code",
   "execution_count": 44,
   "metadata": {
    "colab": {
     "base_uri": "https://localhost:8080/",
     "height": 168
    },
    "colab_type": "code",
    "executionInfo": {
     "elapsed": 548679,
     "status": "ok",
     "timestamp": 1597659193878,
     "user": {
      "displayName": "Alex Rymar",
      "photoUrl": "",
      "userId": "07124085059178606737"
     },
     "user_tz": -180
    },
    "id": "0cfd311YMyFD",
    "outputId": "e7192ca9-c829-4847-af49-2f901358fe76"
   },
   "outputs": [
    {
     "name": "stdout",
     "output_type": "stream",
     "text": [
      "droping, now len =  5269\n",
      "decrising k, now k =  64\n",
      "decrising k, now k =  32\n",
      "decrising k, now k =  16\n",
      "decrising k, now k =  8\n",
      "decrising k, now k =  4\n",
      "decrising k, now k =  2\n",
      "decrising k, now k =  1\n",
      "out - false\n"
     ]
    }
   ],
   "source": [
    "data_cp = Tietjen(data_cp,'redWardsDestroyed',k=128)"
   ]
  },
  {
   "cell_type": "code",
   "execution_count": 45,
   "metadata": {
    "colab": {},
    "colab_type": "code",
    "executionInfo": {
     "elapsed": 548643,
     "status": "ok",
     "timestamp": 1597659193879,
     "user": {
      "displayName": "Alex Rymar",
      "photoUrl": "",
      "userId": "07124085059178606737"
     },
     "user_tz": -180
    },
    "id": "JVE-6ByIMyFM"
   },
   "outputs": [],
   "source": [
    "data_save = data_save.drop(['blueWardsPlaced','blueWardsDestroyed','redWardsPlaced','redWardsDestroyed'],axis =1)"
   ]
  },
  {
   "cell_type": "code",
   "execution_count": 46,
   "metadata": {
    "colab": {},
    "colab_type": "code",
    "executionInfo": {
     "elapsed": 548631,
     "status": "ok",
     "timestamp": 1597659193881,
     "user": {
      "displayName": "Alex Rymar",
      "photoUrl": "",
      "userId": "07124085059178606737"
     },
     "user_tz": -180
    },
    "id": "8k_rgTnTMyFR"
   },
   "outputs": [],
   "source": [
    "data_save = data_save[data_save['redKills']<=15]"
   ]
  },
  {
   "cell_type": "code",
   "execution_count": 47,
   "metadata": {
    "colab": {},
    "colab_type": "code",
    "executionInfo": {
     "elapsed": 548623,
     "status": "ok",
     "timestamp": 1597659193882,
     "user": {
      "displayName": "Alex Rymar",
      "photoUrl": "",
      "userId": "07124085059178606737"
     },
     "user_tz": -180
    },
    "id": "nQNJjIFOMyFT"
   },
   "outputs": [],
   "source": [
    "data_save = data_save[data_save['blueKills']<=15]"
   ]
  },
  {
   "cell_type": "code",
   "execution_count": 48,
   "metadata": {},
   "outputs": [],
   "source": [
    "data.drop(['blueWardsPlaced','blueWardsDestroyed','blueKills', 'blueAssists', 'blueEliteMonsters','blueTotalJungleMinionsKilled','blueCSPerMin',\n",
    "           'redWardsPlaced', 'redWardsDestroyed', 'redKills', 'redAssists','redEliteMonsters','redTotalJungleMinionsKilled','redCSPerMin'],axis=1,inplace=True)"
   ]
  },
  {
   "cell_type": "markdown",
   "metadata": {},
   "source": [
    "## Now let's build our models"
   ]
  },
  {
   "cell_type": "markdown",
   "metadata": {},
   "source": [
    "For the first model we will use filtered data"
   ]
  },
  {
   "cell_type": "markdown",
   "metadata": {},
   "source": [
    "for the second model, we will use simply truncated data with some features removed."
   ]
  },
  {
   "cell_type": "markdown",
   "metadata": {},
   "source": [
    "and in the third we will use only the most important features"
   ]
  },
  {
   "cell_type": "code",
   "execution_count": 49,
   "metadata": {
    "colab": {},
    "colab_type": "code",
    "executionInfo": {
     "elapsed": 548609,
     "status": "ok",
     "timestamp": 1597659193883,
     "user": {
      "displayName": "Alex Rymar",
      "photoUrl": "",
      "userId": "07124085059178606737"
     },
     "user_tz": -180
    },
    "id": "ORu1oh8sMyFX"
   },
   "outputs": [],
   "source": [
    "from sklearn.ensemble import RandomForestClassifier\n",
    "classifier_w = RandomForestClassifier(n_estimators=500)\n",
    "classifier = RandomForestClassifier(n_estimators =500)\n",
    "clasifier = RandomForestClassifier(n_estimators = 500)"
   ]
  },
  {
   "cell_type": "code",
   "execution_count": 50,
   "metadata": {
    "colab": {},
    "colab_type": "code",
    "executionInfo": {
     "elapsed": 548596,
     "status": "ok",
     "timestamp": 1597659193883,
     "user": {
      "displayName": "Alex Rymar",
      "photoUrl": "",
      "userId": "07124085059178606737"
     },
     "user_tz": -180
    },
    "id": "duP2V2dVMyFb"
   },
   "outputs": [],
   "source": [
    "X_w = data_cp.drop('blueWins',axis=1).values\n",
    "y_w = data_cp['blueWins'].values\n",
    "\n",
    "X = data_save.drop('blueWins',axis=1).values\n",
    "y = data_save['blueWins'].values\n",
    "\n",
    "X1=data.drop('blueWins',axis=1)\n",
    "y1=data['blueWins']\n"
   ]
  },
  {
   "cell_type": "code",
   "execution_count": 51,
   "metadata": {
    "colab": {},
    "colab_type": "code",
    "executionInfo": {
     "elapsed": 548587,
     "status": "ok",
     "timestamp": 1597659193884,
     "user": {
      "displayName": "Alex Rymar",
      "photoUrl": "",
      "userId": "07124085059178606737"
     },
     "user_tz": -180
    },
    "id": "vI8dPE3_MyFe"
   },
   "outputs": [],
   "source": [
    "from sklearn.model_selection import train_test_split"
   ]
  },
  {
   "cell_type": "code",
   "execution_count": 52,
   "metadata": {
    "colab": {},
    "colab_type": "code",
    "executionInfo": {
     "elapsed": 548573,
     "status": "ok",
     "timestamp": 1597659193884,
     "user": {
      "displayName": "Alex Rymar",
      "photoUrl": "",
      "userId": "07124085059178606737"
     },
     "user_tz": -180
    },
    "id": "SedArvNRMyFh"
   },
   "outputs": [],
   "source": [
    "X_w_train, X_w_test, y_w_train, y_w_test = train_test_split(X_w,y_w,test_size=0.3)\n",
    "\n",
    "X_train, X_test, y_train, y_test = train_test_split(X,y,test_size=0.3)\n",
    "\n",
    "X1_train, X1_test, y1_train, y1_test = train_test_split(X1,y1,test_size=0.3)"
   ]
  },
  {
   "cell_type": "code",
   "execution_count": 53,
   "metadata": {
    "colab": {
     "base_uri": "https://localhost:8080/",
     "height": 151
    },
    "colab_type": "code",
    "executionInfo": {
     "elapsed": 561250,
     "status": "ok",
     "timestamp": 1597659206571,
     "user": {
      "displayName": "Alex Rymar",
      "photoUrl": "",
      "userId": "07124085059178606737"
     },
     "user_tz": -180
    },
    "id": "DbRKgp2RMyFl",
    "outputId": "ac332e1a-bbda-426c-9927-ac04758a559f"
   },
   "outputs": [
    {
     "data": {
      "text/plain": [
       "RandomForestClassifier(bootstrap=True, class_weight=None, criterion='gini',\n",
       "                       max_depth=None, max_features='auto', max_leaf_nodes=None,\n",
       "                       min_impurity_decrease=0.0, min_impurity_split=None,\n",
       "                       min_samples_leaf=1, min_samples_split=2,\n",
       "                       min_weight_fraction_leaf=0.0, n_estimators=500,\n",
       "                       n_jobs=None, oob_score=False, random_state=None,\n",
       "                       verbose=0, warm_start=False)"
      ]
     },
     "execution_count": 53,
     "metadata": {},
     "output_type": "execute_result"
    }
   ],
   "source": [
    "classifier_w.fit(X_w_train,y_w_train)  #first\n",
    "\n",
    "classifier.fit(X_train,y_train)        #second\n",
    "\n",
    "clasifier.fit(X1_train,y1_train)       #third"
   ]
  },
  {
   "cell_type": "code",
   "execution_count": 54,
   "metadata": {
    "colab": {},
    "colab_type": "code",
    "executionInfo": {
     "elapsed": 561238,
     "status": "ok",
     "timestamp": 1597659206572,
     "user": {
      "displayName": "Alex Rymar",
      "photoUrl": "",
      "userId": "07124085059178606737"
     },
     "user_tz": -180
    },
    "id": "LTClb9EMMyFo"
   },
   "outputs": [],
   "source": [
    "from sklearn.metrics import classification_report,confusion_matrix"
   ]
  },
  {
   "cell_type": "code",
   "execution_count": 55,
   "metadata": {
    "colab": {},
    "colab_type": "code",
    "executionInfo": {
     "elapsed": 561830,
     "status": "ok",
     "timestamp": 1597659207173,
     "user": {
      "displayName": "Alex Rymar",
      "photoUrl": "",
      "userId": "07124085059178606737"
     },
     "user_tz": -180
    },
    "id": "9oqgpHe7MyFr"
   },
   "outputs": [],
   "source": [
    "Predictions_w = classifier_w.predict(X_w_test)\n",
    "\n",
    "Predictions = classifier.predict(X_test)\n",
    "\n",
    "pred = clasifier.predict(X1_test)"
   ]
  },
  {
   "cell_type": "code",
   "execution_count": 56,
   "metadata": {},
   "outputs": [
    {
     "name": "stdout",
     "output_type": "stream",
     "text": [
      "[[563 246]\n",
      " [198 574]]\n",
      "\n",
      "\n",
      "              precision    recall  f1-score   support\n",
      "\n",
      "           0       0.74      0.70      0.72       809\n",
      "           1       0.70      0.74      0.72       772\n",
      "\n",
      "    accuracy                           0.72      1581\n",
      "   macro avg       0.72      0.72      0.72      1581\n",
      "weighted avg       0.72      0.72      0.72      1581\n",
      "\n"
     ]
    }
   ],
   "source": [
    "# first\n",
    "print(confusion_matrix(y_w_test,Predictions_w))\n",
    "print('\\n')\n",
    "print(classification_report(y_w_test,Predictions_w))"
   ]
  },
  {
   "cell_type": "code",
   "execution_count": 57,
   "metadata": {
    "colab": {
     "base_uri": "https://localhost:8080/",
     "height": 235
    },
    "colab_type": "code",
    "executionInfo": {
     "elapsed": 561821,
     "status": "ok",
     "timestamp": 1597659207175,
     "user": {
      "displayName": "Alex Rymar",
      "photoUrl": "",
      "userId": "07124085059178606737"
     },
     "user_tz": -180
    },
    "id": "-2YPaHoQMyFu",
    "outputId": "2c758b2d-84e9-4618-8b4e-50df5bb0db91"
   },
   "outputs": [
    {
     "name": "stdout",
     "output_type": "stream",
     "text": [
      "[[1065  415]\n",
      " [ 402 1057]]\n",
      "\n",
      "\n",
      "              precision    recall  f1-score   support\n",
      "\n",
      "           0       0.73      0.72      0.72      1480\n",
      "           1       0.72      0.72      0.72      1459\n",
      "\n",
      "    accuracy                           0.72      2939\n",
      "   macro avg       0.72      0.72      0.72      2939\n",
      "weighted avg       0.72      0.72      0.72      2939\n",
      "\n"
     ]
    }
   ],
   "source": [
    "#second\n",
    "print(confusion_matrix(y_test,Predictions))\n",
    "print('\\n')\n",
    "print(classification_report(y_test,Predictions))"
   ]
  },
  {
   "cell_type": "code",
   "execution_count": 58,
   "metadata": {},
   "outputs": [
    {
     "name": "stdout",
     "output_type": "stream",
     "text": [
      "[[1069  426]\n",
      " [ 375 1094]]\n",
      "\n",
      "\n",
      "              precision    recall  f1-score   support\n",
      "\n",
      "           0       0.74      0.72      0.73      1495\n",
      "           1       0.72      0.74      0.73      1469\n",
      "\n",
      "    accuracy                           0.73      2964\n",
      "   macro avg       0.73      0.73      0.73      2964\n",
      "weighted avg       0.73      0.73      0.73      2964\n",
      "\n"
     ]
    }
   ],
   "source": [
    "#thire\n",
    "print(confusion_matrix(y1_test,pred))\n",
    "print('\\n')\n",
    "print(classification_report(y1_test,pred))"
   ]
  },
  {
   "cell_type": "markdown",
   "metadata": {},
   "source": [
    "## Now let's use simple neural networks"
   ]
  },
  {
   "cell_type": "code",
   "execution_count": 59,
   "metadata": {
    "colab": {},
    "colab_type": "code",
    "executionInfo": {
     "elapsed": 561795,
     "status": "ok",
     "timestamp": 1597659207177,
     "user": {
      "displayName": "Alex Rymar",
      "photoUrl": "",
      "userId": "07124085059178606737"
     },
     "user_tz": -180
    },
    "id": "o4Cbb1r7MyF0"
   },
   "outputs": [],
   "source": [
    "from sklearn.preprocessing import MinMaxScaler\n",
    "scaler1 = MinMaxScaler()\n",
    "\n",
    "scaler2 = MinMaxScaler()\n",
    "\n",
    "scal = MinMaxScaler()"
   ]
  },
  {
   "cell_type": "code",
   "execution_count": 60,
   "metadata": {
    "colab": {},
    "colab_type": "code",
    "executionInfo": {
     "elapsed": 561785,
     "status": "ok",
     "timestamp": 1597659207178,
     "user": {
      "displayName": "Alex Rymar",
      "photoUrl": "",
      "userId": "07124085059178606737"
     },
     "user_tz": -180
    },
    "id": "XpPAc2HDMyF2"
   },
   "outputs": [],
   "source": [
    "X_w_train = scaler1.fit_transform(X_w_train)\n",
    "X_w_test = scaler1.transform(X_w_test)\n",
    "\n",
    "X_train = scaler2.fit_transform(X_train)\n",
    "X_test = scaler2.transform(X_test)\n",
    "\n",
    "X1_train = scal.fit_transform(X1_train)\n",
    "X1_test = scal.transform(X1_test)"
   ]
  },
  {
   "cell_type": "code",
   "execution_count": 61,
   "metadata": {
    "colab": {},
    "colab_type": "code",
    "executionInfo": {
     "elapsed": 563594,
     "status": "ok",
     "timestamp": 1597659209001,
     "user": {
      "displayName": "Alex Rymar",
      "photoUrl": "",
      "userId": "07124085059178606737"
     },
     "user_tz": -180
    },
    "id": "QV8JvyDFMyF9"
   },
   "outputs": [],
   "source": [
    "\n",
    "from tensorflow.keras.models import Sequential\n",
    "from tensorflow.keras.layers import Dense, Dropout\n",
    "from tensorflow.keras.callbacks import EarlyStopping"
   ]
  },
  {
   "cell_type": "code",
   "execution_count": 62,
   "metadata": {
    "colab": {},
    "colab_type": "code",
    "executionInfo": {
     "elapsed": 563586,
     "status": "ok",
     "timestamp": 1597659209002,
     "user": {
      "displayName": "Alex Rymar",
      "photoUrl": "",
      "userId": "07124085059178606737"
     },
     "user_tz": -180
    },
    "id": "UcYpcZ8EMyF_"
   },
   "outputs": [],
   "source": [
    "model_w = Sequential()"
   ]
  },
  {
   "cell_type": "code",
   "execution_count": 63,
   "metadata": {
    "colab": {},
    "colab_type": "code",
    "executionInfo": {
     "elapsed": 563576,
     "status": "ok",
     "timestamp": 1597659209003,
     "user": {
      "displayName": "Alex Rymar",
      "photoUrl": "",
      "userId": "07124085059178606737"
     },
     "user_tz": -180
    },
    "id": "OfeaSCUnYaWN"
   },
   "outputs": [],
   "source": [
    "model = Sequential()"
   ]
  },
  {
   "cell_type": "code",
   "execution_count": 64,
   "metadata": {
    "colab": {},
    "colab_type": "code",
    "executionInfo": {
     "elapsed": 563567,
     "status": "ok",
     "timestamp": 1597659209004,
     "user": {
      "displayName": "Alex Rymar",
      "photoUrl": "",
      "userId": "07124085059178606737"
     },
     "user_tz": -180
    },
    "id": "YagDM8R1Ykqx"
   },
   "outputs": [],
   "source": [
    "early_stop = EarlyStopping(mode='min',patience=10,verbose=2)"
   ]
  },
  {
   "cell_type": "code",
   "execution_count": 65,
   "metadata": {
    "colab": {},
    "colab_type": "code",
    "executionInfo": {
     "elapsed": 563555,
     "status": "ok",
     "timestamp": 1597659209005,
     "user": {
      "displayName": "Alex Rymar",
      "photoUrl": "",
      "userId": "07124085059178606737"
     },
     "user_tz": -180
    },
    "id": "Bbtgt4FUYdD_"
   },
   "outputs": [
    {
     "name": "stdout",
     "output_type": "stream",
     "text": [
      "WARNING:tensorflow:From C:\\Users\\alex_\\Anaconda3\\lib\\site-packages\\tensorflow\\python\\ops\\init_ops.py:1251: calling VarianceScaling.__init__ (from tensorflow.python.ops.init_ops) with dtype is deprecated and will be removed in a future version.\n",
      "Instructions for updating:\n",
      "Call initializer instance with the dtype argument instead of passing it to the constructor\n"
     ]
    }
   ],
   "source": [
    "#firs model\n",
    "model_w.add(Dense(29,activation='relu'))\n",
    "\n",
    "model_w.add(Dense(200,activation = 'relu'))\n",
    "model_w.add(Dropout(0.4))\n",
    "\n",
    "model_w.add(Dense(200,activation='relu'))\n",
    "model_w.add(Dropout(0.4))\n",
    "\n",
    "model_w.add(Dense(50,activation='relu'))\n",
    "model_w.add(Dropout(0.5))\n",
    "\n",
    "model_w.add(Dense(14,activation='relu'))\n",
    "\n",
    "model_w.add(Dense(1,activation='sigmoid'))\n",
    "\n",
    "model_w.compile(optimizer='adam',loss='binary_crossentropy')"
   ]
  },
  {
   "cell_type": "code",
   "execution_count": 66,
   "metadata": {
    "colab": {},
    "colab_type": "code",
    "executionInfo": {
     "elapsed": 563547,
     "status": "ok",
     "timestamp": 1597659209006,
     "user": {
      "displayName": "Alex Rymar",
      "photoUrl": "",
      "userId": "07124085059178606737"
     },
     "user_tz": -180
    },
    "id": "G1LjiFdDZyDe"
   },
   "outputs": [],
   "source": [
    "#second model\n",
    "model.add(Dense(25,activation='relu'))\n",
    "\n",
    "model.add(Dense(200,activation = 'relu'))\n",
    "model.add(Dropout(0.4))\n",
    "\n",
    "model.add(Dense(200,activation='relu'))\n",
    "model.add(Dropout(0.4))\n",
    "\n",
    "model.add(Dense(50,activation='relu'))\n",
    "model.add(Dropout(0.4))\n",
    "\n",
    "model.add(Dense(13,activation='relu'))\n",
    "\n",
    "model.add(Dense(1,activation='sigmoid'))\n",
    "\n",
    "model.compile(optimizer='adam',loss='binary_crossentropy')"
   ]
  },
  {
   "cell_type": "code",
   "execution_count": 67,
   "metadata": {},
   "outputs": [],
   "source": [
    "#third model\n",
    "model1 = Sequential()\n",
    "\n",
    "model1.add(Dense(15,activation='relu'))\n",
    "\n",
    "model1.add(Dense(16,activation = 'relu'))\n",
    "model1.add(Dropout(0.5))\n",
    "\n",
    "#model1.add(Dense(225,activation='relu'))\n",
    "#model1.add(Dropout(0.5))\n",
    "\n",
    "#model1.add(Dense(45,activation='relu'))\n",
    "#model1.add(Dropout(0.5))\n",
    "\n",
    "#model1.add(Dense(15,activation='relu'))\n",
    "\n",
    "model1.add(Dense(1,activation='sigmoid'))\n",
    "\n",
    "model1.compile(optimizer='adam',loss='binary_crossentropy')"
   ]
  },
  {
   "cell_type": "code",
   "execution_count": 68,
   "metadata": {
    "colab": {
     "base_uri": "https://localhost:8080/",
     "height": 1000
    },
    "colab_type": "code",
    "executionInfo": {
     "elapsed": 569359,
     "status": "ok",
     "timestamp": 1597659214829,
     "user": {
      "displayName": "Alex Rymar",
      "photoUrl": "",
      "userId": "07124085059178606737"
     },
     "user_tz": -180
    },
    "id": "ewj0ShpeckC1",
    "outputId": "30713fde-cdfd-4b93-9fb1-3e2c2d1d6207"
   },
   "outputs": [
    {
     "name": "stdout",
     "output_type": "stream",
     "text": [
      "WARNING:tensorflow:From C:\\Users\\alex_\\Anaconda3\\lib\\site-packages\\tensorflow\\python\\ops\\nn_impl.py:180: add_dispatch_support.<locals>.wrapper (from tensorflow.python.ops.array_ops) is deprecated and will be removed in a future version.\n",
      "Instructions for updating:\n",
      "Use tf.where in 2.0, which has the same broadcast rule as np.where\n",
      "Train on 3688 samples, validate on 1581 samples\n",
      "Epoch 1/100\n",
      "3688/3688 - 2s - loss: 0.6886 - val_loss: 0.6737\n",
      "Epoch 2/100\n",
      "3688/3688 - 0s - loss: 0.6649 - val_loss: 0.6321\n",
      "Epoch 3/100\n",
      "3688/3688 - 0s - loss: 0.6303 - val_loss: 0.6000\n",
      "Epoch 4/100\n",
      "3688/3688 - 0s - loss: 0.6045 - val_loss: 0.5765\n",
      "Epoch 5/100\n",
      "3688/3688 - 0s - loss: 0.5932 - val_loss: 0.5673\n",
      "Epoch 6/100\n",
      "3688/3688 - 0s - loss: 0.5853 - val_loss: 0.5582\n",
      "Epoch 7/100\n",
      "3688/3688 - 0s - loss: 0.5756 - val_loss: 0.5610\n",
      "Epoch 8/100\n",
      "3688/3688 - 0s - loss: 0.5722 - val_loss: 0.5543\n",
      "Epoch 9/100\n",
      "3688/3688 - 0s - loss: 0.5683 - val_loss: 0.5506\n",
      "Epoch 10/100\n",
      "3688/3688 - 0s - loss: 0.5613 - val_loss: 0.5489\n",
      "Epoch 11/100\n",
      "3688/3688 - 0s - loss: 0.5588 - val_loss: 0.5455\n",
      "Epoch 12/100\n",
      "3688/3688 - 0s - loss: 0.5616 - val_loss: 0.5489\n",
      "Epoch 13/100\n",
      "3688/3688 - 0s - loss: 0.5595 - val_loss: 0.5490\n",
      "Epoch 14/100\n",
      "3688/3688 - 0s - loss: 0.5619 - val_loss: 0.5453\n",
      "Epoch 15/100\n",
      "3688/3688 - 0s - loss: 0.5580 - val_loss: 0.5439\n",
      "Epoch 16/100\n",
      "3688/3688 - 0s - loss: 0.5564 - val_loss: 0.5499\n",
      "Epoch 17/100\n",
      "3688/3688 - 0s - loss: 0.5553 - val_loss: 0.5448\n",
      "Epoch 18/100\n",
      "3688/3688 - 0s - loss: 0.5525 - val_loss: 0.5437\n",
      "Epoch 19/100\n",
      "3688/3688 - 0s - loss: 0.5526 - val_loss: 0.5448\n",
      "Epoch 20/100\n",
      "3688/3688 - 0s - loss: 0.5487 - val_loss: 0.5458\n",
      "Epoch 21/100\n",
      "3688/3688 - 0s - loss: 0.5456 - val_loss: 0.5437\n",
      "Epoch 22/100\n",
      "3688/3688 - 0s - loss: 0.5454 - val_loss: 0.5453\n",
      "Epoch 23/100\n",
      "3688/3688 - 0s - loss: 0.5481 - val_loss: 0.5453\n",
      "Epoch 24/100\n",
      "3688/3688 - 0s - loss: 0.5459 - val_loss: 0.5451\n",
      "Epoch 25/100\n",
      "3688/3688 - 0s - loss: 0.5428 - val_loss: 0.5435\n",
      "Epoch 26/100\n",
      "3688/3688 - 0s - loss: 0.5436 - val_loss: 0.5454\n",
      "Epoch 27/100\n",
      "3688/3688 - 0s - loss: 0.5425 - val_loss: 0.5470\n",
      "Epoch 28/100\n",
      "3688/3688 - 0s - loss: 0.5436 - val_loss: 0.5480\n",
      "Epoch 29/100\n",
      "3688/3688 - 0s - loss: 0.5460 - val_loss: 0.5447\n",
      "Epoch 30/100\n",
      "3688/3688 - 0s - loss: 0.5440 - val_loss: 0.5484\n",
      "Epoch 31/100\n",
      "3688/3688 - 0s - loss: 0.5418 - val_loss: 0.5476\n",
      "Epoch 32/100\n",
      "3688/3688 - 0s - loss: 0.5415 - val_loss: 0.5479\n",
      "Epoch 33/100\n",
      "3688/3688 - 0s - loss: 0.5451 - val_loss: 0.5454\n",
      "Epoch 34/100\n",
      "3688/3688 - 0s - loss: 0.5383 - val_loss: 0.5474\n",
      "Epoch 35/100\n",
      "3688/3688 - 0s - loss: 0.5411 - val_loss: 0.5460\n",
      "Epoch 00035: early stopping\n"
     ]
    },
    {
     "data": {
      "text/plain": [
       "<tensorflow.python.keras.callbacks.History at 0x1ae024cd2b0>"
      ]
     },
     "execution_count": 68,
     "metadata": {},
     "output_type": "execute_result"
    }
   ],
   "source": [
    "model_w.fit(X_w_train,y_w_train,batch_size=256,epochs = 100,verbose = 2,callbacks=[early_stop],validation_data=(X_w_test,y_w_test))"
   ]
  },
  {
   "cell_type": "code",
   "execution_count": 69,
   "metadata": {
    "colab": {
     "base_uri": "https://localhost:8080/",
     "height": 1000
    },
    "colab_type": "code",
    "executionInfo": {
     "elapsed": 577228,
     "status": "ok",
     "timestamp": 1597659222712,
     "user": {
      "displayName": "Alex Rymar",
      "photoUrl": "",
      "userId": "07124085059178606737"
     },
     "user_tz": -180
    },
    "id": "ja47vu1yaqsD",
    "outputId": "53ba3730-3b5b-440c-cfcc-b0166089aad4"
   },
   "outputs": [
    {
     "name": "stdout",
     "output_type": "stream",
     "text": [
      "Train on 6857 samples, validate on 2939 samples\n",
      "Epoch 1/100\n",
      "6857/6857 - 2s - loss: 0.6780 - val_loss: 0.6354\n",
      "Epoch 2/100\n",
      "6857/6857 - 0s - loss: 0.6152 - val_loss: 0.5692\n",
      "Epoch 3/100\n",
      "6857/6857 - 0s - loss: 0.5762 - val_loss: 0.5509\n",
      "Epoch 4/100\n",
      "6857/6857 - 0s - loss: 0.5596 - val_loss: 0.5436\n",
      "Epoch 5/100\n",
      "6857/6857 - 0s - loss: 0.5534 - val_loss: 0.5400\n",
      "Epoch 6/100\n",
      "6857/6857 - 0s - loss: 0.5539 - val_loss: 0.5412\n",
      "Epoch 7/100\n",
      "6857/6857 - 0s - loss: 0.5511 - val_loss: 0.5412\n",
      "Epoch 8/100\n",
      "6857/6857 - 0s - loss: 0.5477 - val_loss: 0.5462\n",
      "Epoch 9/100\n",
      "6857/6857 - 0s - loss: 0.5510 - val_loss: 0.5401\n",
      "Epoch 10/100\n",
      "6857/6857 - 0s - loss: 0.5451 - val_loss: 0.5391\n",
      "Epoch 11/100\n",
      "6857/6857 - 0s - loss: 0.5485 - val_loss: 0.5375\n",
      "Epoch 12/100\n",
      "6857/6857 - 0s - loss: 0.5419 - val_loss: 0.5383\n",
      "Epoch 13/100\n",
      "6857/6857 - 0s - loss: 0.5448 - val_loss: 0.5410\n",
      "Epoch 14/100\n",
      "6857/6857 - 0s - loss: 0.5414 - val_loss: 0.5353\n",
      "Epoch 15/100\n",
      "6857/6857 - 0s - loss: 0.5416 - val_loss: 0.5393\n",
      "Epoch 16/100\n",
      "6857/6857 - 0s - loss: 0.5424 - val_loss: 0.5335\n",
      "Epoch 17/100\n",
      "6857/6857 - 0s - loss: 0.5433 - val_loss: 0.5399\n",
      "Epoch 18/100\n",
      "6857/6857 - 0s - loss: 0.5381 - val_loss: 0.5349\n",
      "Epoch 19/100\n",
      "6857/6857 - 0s - loss: 0.5407 - val_loss: 0.5347\n",
      "Epoch 20/100\n",
      "6857/6857 - 0s - loss: 0.5384 - val_loss: 0.5330\n",
      "Epoch 21/100\n",
      "6857/6857 - 0s - loss: 0.5399 - val_loss: 0.5356\n",
      "Epoch 22/100\n",
      "6857/6857 - 0s - loss: 0.5369 - val_loss: 0.5358\n",
      "Epoch 23/100\n",
      "6857/6857 - 0s - loss: 0.5354 - val_loss: 0.5378\n",
      "Epoch 24/100\n",
      "6857/6857 - 0s - loss: 0.5388 - val_loss: 0.5356\n",
      "Epoch 25/100\n",
      "6857/6857 - 0s - loss: 0.5374 - val_loss: 0.5360\n",
      "Epoch 26/100\n",
      "6857/6857 - 0s - loss: 0.5381 - val_loss: 0.5346\n",
      "Epoch 27/100\n",
      "6857/6857 - 0s - loss: 0.5357 - val_loss: 0.5423\n",
      "Epoch 28/100\n",
      "6857/6857 - 0s - loss: 0.5393 - val_loss: 0.5365\n",
      "Epoch 29/100\n",
      "6857/6857 - 0s - loss: 0.5348 - val_loss: 0.5344\n",
      "Epoch 30/100\n",
      "6857/6857 - 0s - loss: 0.5344 - val_loss: 0.5356\n",
      "Epoch 00030: early stopping\n"
     ]
    },
    {
     "data": {
      "text/plain": [
       "<tensorflow.python.keras.callbacks.History at 0x1ae0b2e1710>"
      ]
     },
     "execution_count": 69,
     "metadata": {},
     "output_type": "execute_result"
    }
   ],
   "source": [
    "model.fit(X_train,y_train,batch_size=256,epochs = 100,verbose = 2,callbacks=[early_stop],validation_data=(X_test,y_test))"
   ]
  },
  {
   "cell_type": "code",
   "execution_count": 74,
   "metadata": {},
   "outputs": [],
   "source": [
    "y1_train = y1_train.values"
   ]
  },
  {
   "cell_type": "code",
   "execution_count": 75,
   "metadata": {},
   "outputs": [
    {
     "name": "stdout",
     "output_type": "stream",
     "text": [
      "Train on 6915 samples, validate on 2964 samples\n",
      "Epoch 1/200\n",
      "6915/6915 - 1s - loss: 0.6869 - val_loss: 0.6659\n",
      "Epoch 2/200\n",
      "6915/6915 - 0s - loss: 0.6583 - val_loss: 0.6321\n",
      "Epoch 3/200\n",
      "6915/6915 - 0s - loss: 0.6393 - val_loss: 0.6060\n",
      "Epoch 4/200\n",
      "6915/6915 - 0s - loss: 0.6216 - val_loss: 0.5847\n",
      "Epoch 5/200\n",
      "6915/6915 - 0s - loss: 0.6088 - val_loss: 0.5716\n",
      "Epoch 6/200\n",
      "6915/6915 - 0s - loss: 0.5985 - val_loss: 0.5631\n",
      "Epoch 7/200\n",
      "6915/6915 - 0s - loss: 0.5868 - val_loss: 0.5519\n",
      "Epoch 8/200\n",
      "6915/6915 - 0s - loss: 0.5804 - val_loss: 0.5478\n",
      "Epoch 9/200\n",
      "6915/6915 - 0s - loss: 0.5731 - val_loss: 0.5413\n",
      "Epoch 10/200\n",
      "6915/6915 - 0s - loss: 0.5732 - val_loss: 0.5396\n",
      "Epoch 11/200\n",
      "6915/6915 - 0s - loss: 0.5712 - val_loss: 0.5358\n",
      "Epoch 12/200\n",
      "6915/6915 - 0s - loss: 0.5684 - val_loss: 0.5363\n",
      "Epoch 13/200\n",
      "6915/6915 - 0s - loss: 0.5681 - val_loss: 0.5343\n",
      "Epoch 14/200\n",
      "6915/6915 - 0s - loss: 0.5679 - val_loss: 0.5355\n",
      "Epoch 15/200\n",
      "6915/6915 - 0s - loss: 0.5668 - val_loss: 0.5344\n",
      "Epoch 16/200\n",
      "6915/6915 - 0s - loss: 0.5639 - val_loss: 0.5317\n",
      "Epoch 17/200\n",
      "6915/6915 - 0s - loss: 0.5623 - val_loss: 0.5318\n",
      "Epoch 18/200\n",
      "6915/6915 - 0s - loss: 0.5603 - val_loss: 0.5300\n",
      "Epoch 19/200\n",
      "6915/6915 - 0s - loss: 0.5598 - val_loss: 0.5299\n",
      "Epoch 20/200\n",
      "6915/6915 - 0s - loss: 0.5622 - val_loss: 0.5320\n",
      "Epoch 21/200\n",
      "6915/6915 - 0s - loss: 0.5589 - val_loss: 0.5297\n",
      "Epoch 22/200\n",
      "6915/6915 - 0s - loss: 0.5577 - val_loss: 0.5291\n",
      "Epoch 23/200\n",
      "6915/6915 - 0s - loss: 0.5570 - val_loss: 0.5295\n",
      "Epoch 24/200\n",
      "6915/6915 - 0s - loss: 0.5592 - val_loss: 0.5297\n",
      "Epoch 25/200\n",
      "6915/6915 - 0s - loss: 0.5620 - val_loss: 0.5293\n",
      "Epoch 26/200\n",
      "6915/6915 - 0s - loss: 0.5579 - val_loss: 0.5274\n",
      "Epoch 27/200\n",
      "6915/6915 - 0s - loss: 0.5548 - val_loss: 0.5282\n",
      "Epoch 28/200\n",
      "6915/6915 - 0s - loss: 0.5522 - val_loss: 0.5270\n",
      "Epoch 29/200\n",
      "6915/6915 - 0s - loss: 0.5560 - val_loss: 0.5271\n",
      "Epoch 30/200\n",
      "6915/6915 - 0s - loss: 0.5604 - val_loss: 0.5303\n",
      "Epoch 31/200\n",
      "6915/6915 - 0s - loss: 0.5602 - val_loss: 0.5273\n",
      "Epoch 32/200\n",
      "6915/6915 - 0s - loss: 0.5530 - val_loss: 0.5265\n",
      "Epoch 33/200\n",
      "6915/6915 - 0s - loss: 0.5528 - val_loss: 0.5265\n",
      "Epoch 34/200\n",
      "6915/6915 - 0s - loss: 0.5510 - val_loss: 0.5261\n",
      "Epoch 35/200\n",
      "6915/6915 - 0s - loss: 0.5565 - val_loss: 0.5275\n",
      "Epoch 36/200\n",
      "6915/6915 - 0s - loss: 0.5579 - val_loss: 0.5267\n",
      "Epoch 37/200\n",
      "6915/6915 - 0s - loss: 0.5560 - val_loss: 0.5269\n",
      "Epoch 38/200\n",
      "6915/6915 - 0s - loss: 0.5524 - val_loss: 0.5268\n",
      "Epoch 39/200\n",
      "6915/6915 - 0s - loss: 0.5557 - val_loss: 0.5260\n",
      "Epoch 40/200\n",
      "6915/6915 - 0s - loss: 0.5546 - val_loss: 0.5250\n",
      "Epoch 41/200\n",
      "6915/6915 - 0s - loss: 0.5530 - val_loss: 0.5247\n",
      "Epoch 42/200\n",
      "6915/6915 - 0s - loss: 0.5522 - val_loss: 0.5253\n",
      "Epoch 43/200\n",
      "6915/6915 - 0s - loss: 0.5502 - val_loss: 0.5252\n",
      "Epoch 44/200\n",
      "6915/6915 - 0s - loss: 0.5531 - val_loss: 0.5265\n",
      "Epoch 45/200\n",
      "6915/6915 - 0s - loss: 0.5561 - val_loss: 0.5261\n",
      "Epoch 46/200\n",
      "6915/6915 - 0s - loss: 0.5511 - val_loss: 0.5246\n",
      "Epoch 47/200\n",
      "6915/6915 - 0s - loss: 0.5548 - val_loss: 0.5254\n",
      "Epoch 48/200\n",
      "6915/6915 - 0s - loss: 0.5517 - val_loss: 0.5262\n",
      "Epoch 49/200\n",
      "6915/6915 - 0s - loss: 0.5554 - val_loss: 0.5235\n",
      "Epoch 50/200\n",
      "6915/6915 - 0s - loss: 0.5532 - val_loss: 0.5245\n",
      "Epoch 51/200\n",
      "6915/6915 - 0s - loss: 0.5553 - val_loss: 0.5251\n",
      "Epoch 52/200\n",
      "6915/6915 - 0s - loss: 0.5528 - val_loss: 0.5234\n",
      "Epoch 53/200\n",
      "6915/6915 - 0s - loss: 0.5554 - val_loss: 0.5243\n",
      "Epoch 54/200\n",
      "6915/6915 - 0s - loss: 0.5531 - val_loss: 0.5229\n",
      "Epoch 55/200\n",
      "6915/6915 - 0s - loss: 0.5550 - val_loss: 0.5241\n",
      "Epoch 56/200\n",
      "6915/6915 - 0s - loss: 0.5558 - val_loss: 0.5250\n",
      "Epoch 57/200\n",
      "6915/6915 - 0s - loss: 0.5520 - val_loss: 0.5228\n",
      "Epoch 58/200\n",
      "6915/6915 - 0s - loss: 0.5509 - val_loss: 0.5243\n",
      "Epoch 59/200\n",
      "6915/6915 - 0s - loss: 0.5515 - val_loss: 0.5236\n",
      "Epoch 60/200\n",
      "6915/6915 - 0s - loss: 0.5517 - val_loss: 0.5220\n",
      "Epoch 61/200\n",
      "6915/6915 - 0s - loss: 0.5549 - val_loss: 0.5250\n",
      "Epoch 62/200\n",
      "6915/6915 - 0s - loss: 0.5509 - val_loss: 0.5231\n",
      "Epoch 63/200\n",
      "6915/6915 - 0s - loss: 0.5558 - val_loss: 0.5250\n",
      "Epoch 64/200\n",
      "6915/6915 - 0s - loss: 0.5549 - val_loss: 0.5227\n",
      "Epoch 65/200\n",
      "6915/6915 - 0s - loss: 0.5563 - val_loss: 0.5240\n",
      "Epoch 66/200\n",
      "6915/6915 - 0s - loss: 0.5540 - val_loss: 0.5237\n",
      "Epoch 67/200\n",
      "6915/6915 - 0s - loss: 0.5542 - val_loss: 0.5251\n",
      "Epoch 68/200\n",
      "6915/6915 - 0s - loss: 0.5532 - val_loss: 0.5243\n",
      "Epoch 69/200\n",
      "6915/6915 - 0s - loss: 0.5543 - val_loss: 0.5236\n",
      "Epoch 70/200\n",
      "6915/6915 - 0s - loss: 0.5525 - val_loss: 0.5230\n",
      "Epoch 00070: early stopping\n"
     ]
    },
    {
     "data": {
      "text/plain": [
       "<tensorflow.python.keras.callbacks.History at 0x1ae0f933c18>"
      ]
     },
     "execution_count": 75,
     "metadata": {},
     "output_type": "execute_result"
    }
   ],
   "source": [
    "model1.fit(X1_train,y1_train,batch_size=128,epochs = 200,verbose = 2,callbacks=[early_stop],validation_data=(X1_test,y1_test))"
   ]
  },
  {
   "cell_type": "code",
   "execution_count": 76,
   "metadata": {
    "colab": {
     "base_uri": "https://localhost:8080/",
     "height": 87
    },
    "colab_type": "code",
    "executionInfo": {
     "elapsed": 577591,
     "status": "ok",
     "timestamp": 1597659223088,
     "user": {
      "displayName": "Alex Rymar",
      "photoUrl": "",
      "userId": "07124085059178606737"
     },
     "user_tz": -180
    },
    "id": "Yg_w1f3ba7QM",
    "outputId": "22689a46-232b-4aeb-ce16-4480327a9803"
   },
   "outputs": [],
   "source": [
    "predictions_w = model_w.predict_classes(X_w_test)\n",
    "\n",
    "predictions = model.predict_classes(X_test)\n",
    "\n",
    "preds = model1.predict_classes(X1_test)"
   ]
  },
  {
   "cell_type": "code",
   "execution_count": 77,
   "metadata": {
    "colab": {
     "base_uri": "https://localhost:8080/",
     "height": 235
    },
    "colab_type": "code",
    "executionInfo": {
     "elapsed": 577580,
     "status": "ok",
     "timestamp": 1597659223089,
     "user": {
      "displayName": "Alex Rymar",
      "photoUrl": "",
      "userId": "07124085059178606737"
     },
     "user_tz": -180
    },
    "id": "9lRiNQrcbOAu",
    "outputId": "d97c5637-ce7f-4f2e-bd40-50795231d2a9"
   },
   "outputs": [
    {
     "name": "stdout",
     "output_type": "stream",
     "text": [
      "[[578 231]\n",
      " [215 557]]\n",
      "\n",
      "\n",
      "              precision    recall  f1-score   support\n",
      "\n",
      "           0       0.73      0.71      0.72       809\n",
      "           1       0.71      0.72      0.71       772\n",
      "\n",
      "    accuracy                           0.72      1581\n",
      "   macro avg       0.72      0.72      0.72      1581\n",
      "weighted avg       0.72      0.72      0.72      1581\n",
      "\n"
     ]
    }
   ],
   "source": [
    "#first\n",
    "print(confusion_matrix(y_w_test,predictions_w))\n",
    "print('\\n')\n",
    "print(classification_report(y_w_test,predictions_w))"
   ]
  },
  {
   "cell_type": "code",
   "execution_count": 78,
   "metadata": {
    "colab": {
     "base_uri": "https://localhost:8080/",
     "height": 235
    },
    "colab_type": "code",
    "executionInfo": {
     "elapsed": 577563,
     "status": "ok",
     "timestamp": 1597659223089,
     "user": {
      "displayName": "Alex Rymar",
      "photoUrl": "",
      "userId": "07124085059178606737"
     },
     "user_tz": -180
    },
    "id": "FZLdO9RNbgJX",
    "outputId": "97c1b1af-023b-4803-de49-6712e1f48163"
   },
   "outputs": [
    {
     "name": "stdout",
     "output_type": "stream",
     "text": [
      "[[1013  467]\n",
      " [ 347 1112]]\n",
      "\n",
      "\n",
      "              precision    recall  f1-score   support\n",
      "\n",
      "           0       0.74      0.68      0.71      1480\n",
      "           1       0.70      0.76      0.73      1459\n",
      "\n",
      "    accuracy                           0.72      2939\n",
      "   macro avg       0.72      0.72      0.72      2939\n",
      "weighted avg       0.72      0.72      0.72      2939\n",
      "\n"
     ]
    }
   ],
   "source": [
    "#second\n",
    "print(confusion_matrix(y_test,predictions))\n",
    "print('\\n')\n",
    "print(classification_report(y_test,predictions))"
   ]
  },
  {
   "cell_type": "code",
   "execution_count": 79,
   "metadata": {
    "colab": {},
    "colab_type": "code",
    "executionInfo": {
     "elapsed": 577549,
     "status": "ok",
     "timestamp": 1597659223090,
     "user": {
      "displayName": "Alex Rymar",
      "photoUrl": "",
      "userId": "07124085059178606737"
     },
     "user_tz": -180
    },
    "id": "PhLTmFOrbo_E"
   },
   "outputs": [
    {
     "name": "stdout",
     "output_type": "stream",
     "text": [
      "[[1088  407]\n",
      " [ 367 1102]]\n",
      "\n",
      "\n",
      "              precision    recall  f1-score   support\n",
      "\n",
      "           0       0.75      0.73      0.74      1495\n",
      "           1       0.73      0.75      0.74      1469\n",
      "\n",
      "    accuracy                           0.74      2964\n",
      "   macro avg       0.74      0.74      0.74      2964\n",
      "weighted avg       0.74      0.74      0.74      2964\n",
      "\n"
     ]
    }
   ],
   "source": [
    "#Third\n",
    "print(confusion_matrix(y1_test,preds))\n",
    "print('\\n')\n",
    "print(classification_report(y1_test,preds))"
   ]
  },
  {
   "cell_type": "code",
   "execution_count": null,
   "metadata": {},
   "outputs": [],
   "source": []
  }
 ],
 "metadata": {
  "colab": {
   "name": "Lol_games.ipynb",
   "provenance": []
  },
  "kernelspec": {
   "display_name": "Python 3",
   "language": "python",
   "name": "python3"
  },
  "language_info": {
   "codemirror_mode": {
    "name": "ipython",
    "version": 3
   },
   "file_extension": ".py",
   "mimetype": "text/x-python",
   "name": "python",
   "nbconvert_exporter": "python",
   "pygments_lexer": "ipython3",
   "version": "3.7.3"
  }
 },
 "nbformat": 4,
 "nbformat_minor": 1
}
